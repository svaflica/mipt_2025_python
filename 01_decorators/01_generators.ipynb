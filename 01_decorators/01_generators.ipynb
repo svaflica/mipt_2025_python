{
 "cells": [
  {
   "cell_type": "markdown",
   "id": "f09cf03d",
   "metadata": {},
   "source": [
    "# Генераторы"
   ]
  },
  {
   "cell_type": "code",
   "execution_count": 1,
   "id": "a0962ab8",
   "metadata": {},
   "outputs": [
    {
     "name": "stdout",
     "output_type": "stream",
     "text": [
      "Первый подопытный съел 0 и написал:  0\n",
      "Первый подопытный съел 1 и написал:  1\n",
      "Второй подопытный съел 2 и написал:  2222\n",
      "Второй подопытный съел 3 и написал:  3333\n",
      "Второй подопытный съел 4 и написал:  4444\n",
      "Третий подопытный съел 5 и написал:  5555555555\n",
      "Третий подопытный съел 6 и написал:  6666666666\n",
      "Третий подопытный съел 7 и написал:  7777777777\n",
      "Третий подопытный съел 8 и написал:  8888888888\n"
     ]
    }
   ],
   "source": [
    "def skat(n):\n",
    "    # сознательно не используем тут range, потому как range является объектом-итератором.\n",
    "    res = []\n",
    "    cnt = 0\n",
    "    while cnt < n:\n",
    "        res.append(cnt)\n",
    "        cnt += 1\n",
    "    return res\n",
    "\n",
    "def first_eater(eda_list):\n",
    "    for eda in eda_list: \n",
    "        print(f\"Первый подопытный съел {eda} и написал: \", str(eda)) \n",
    "      \n",
    "      \n",
    "def second_eater(eda_list):\n",
    "    for eda in eda_list: \n",
    "        print(f\"Второй подопытный съел {eda} и написал: \", str(eda) * 4) \n",
    "      \n",
    "      \n",
    "def third_eater(eda_list):\n",
    "    for eda in eda_list: \n",
    "        print(f\"Третий подопытный съел {eda} и написал: \", str(eda) * 10)\n",
    "      \n",
    "      \n",
    "# заряжаем скатерть\n",
    "eda_list = skat(100_000_000) \n",
    "# задаём параметры голода\n",
    "golod_1 = 2 \n",
    "golod_2 = 3 \n",
    "golod_3 = 4 \n",
    "# кормим\n",
    "first_eater(eda_list[:golod_1])\n",
    "second_eater(eda_list[golod_1:golod_2 + golod_1])\n",
    "third_eater(eda_list[golod_2 + golod_1:golod_2 + golod_1 + golod_3])"
   ]
  },
  {
   "cell_type": "markdown",
   "id": "24f66202",
   "metadata": {},
   "source": [
    "### Простейший генератор"
   ]
  },
  {
   "cell_type": "markdown",
   "id": "df555a35",
   "metadata": {},
   "source": [
    "Yield — это ключевое слово в Python, которое используется для возврата из функции с сохранением состояния ее локальных переменных, и при повторном вызове такой функции выполнение продолжается с оператора yield, на котором ее работа была прервана. "
   ]
  },
  {
   "cell_type": "code",
   "execution_count": 2,
   "id": "635a0947",
   "metadata": {},
   "outputs": [
    {
     "name": "stdout",
     "output_type": "stream",
     "text": [
      "<function my_func_1 at 0x1105cd1c0>\n",
      "<function my_func_2 at 0x1105cce00>\n"
     ]
    }
   ],
   "source": [
    "def my_func_1():\n",
    "    print(\"Сейчас отдам число\")\n",
    "    return 1\n",
    "\n",
    "\n",
    "def my_func_2():\n",
    "    print(\"Сейчас отдам число\")\n",
    "    yield 1\n",
    "\n",
    "print(my_func_1)\n",
    "print(my_func_2)"
   ]
  },
  {
   "cell_type": "code",
   "execution_count": 3,
   "id": "7adfb8ac",
   "metadata": {},
   "outputs": [
    {
     "name": "stdout",
     "output_type": "stream",
     "text": [
      "Сейчас отдам число\n",
      "1\n",
      "<generator object my_func_2 at 0x110536800>\n"
     ]
    }
   ],
   "source": [
    "print(my_func_1())\n",
    "print(my_func_2())"
   ]
  },
  {
   "cell_type": "markdown",
   "id": "f0ab05d1",
   "metadata": {},
   "source": [
    "### Использование генератора"
   ]
  },
  {
   "cell_type": "code",
   "execution_count": 4,
   "id": "95215867",
   "metadata": {},
   "outputs": [
    {
     "name": "stdout",
     "output_type": "stream",
     "text": [
      "Сейчас отдам число\n",
      "1\n"
     ]
    }
   ],
   "source": [
    "print(next(my_func_2()))"
   ]
  },
  {
   "cell_type": "markdown",
   "id": "c023dc54",
   "metadata": {},
   "source": [
    "### Использование нескольких yield"
   ]
  },
  {
   "cell_type": "code",
   "execution_count": 5,
   "id": "43be40b8",
   "metadata": {},
   "outputs": [
    {
     "name": "stdout",
     "output_type": "stream",
     "text": [
      "<generator object my_func_2 at 0x110536800>\n",
      "Сейчас отдам число\n",
      "1\n",
      "Ого, мы только что получили число из объекта-генератора по запросу!\n",
      "Сейчас отдам ещё число\n",
      "2\n"
     ]
    }
   ],
   "source": [
    "def my_func_2():\n",
    "    print(\"Сейчас отдам число\") \n",
    "    yield 1 \n",
    "    print(\"Сейчас отдам ещё число\") \n",
    "    yield 2\n",
    "    print(\"Больше ничего нету!\")\n",
    "\n",
    "# попробуем выполнить вот такой код:\n",
    "gen_o = my_func_2() # тут у нас будет создан и записан в переменную generator-object\n",
    "\n",
    "print(gen_o)\n",
    "print(next(gen_o))\n",
    "print(\"Ого, мы только что получили число из объекта-генератора по запросу!\") \n",
    "print(next(gen_o))"
   ]
  },
  {
   "cell_type": "code",
   "execution_count": 6,
   "id": "b08afa6c",
   "metadata": {},
   "outputs": [
    {
     "name": "stdout",
     "output_type": "stream",
     "text": [
      "Сейчас отдам число\n",
      "1\n",
      "Ого, мы только что получили число из объекта-генератора по запросу!\n",
      "Сейчас отдам ещё число\n",
      "2\n",
      "Больше ничего нету!\n"
     ]
    },
    {
     "ename": "StopIteration",
     "evalue": "",
     "output_type": "error",
     "traceback": [
      "\u001b[0;31m---------------------------------------------------------------------------\u001b[0m",
      "\u001b[0;31mStopIteration\u001b[0m                             Traceback (most recent call last)",
      "Cell \u001b[0;32mIn[6], line 5\u001b[0m\n\u001b[1;32m      3\u001b[0m \u001b[38;5;28mprint\u001b[39m(\u001b[38;5;124m\"\u001b[39m\u001b[38;5;124mОго, мы только что получили число из объекта-генератора по запросу!\u001b[39m\u001b[38;5;124m\"\u001b[39m)\n\u001b[1;32m      4\u001b[0m \u001b[38;5;28mprint\u001b[39m(\u001b[38;5;28mnext\u001b[39m(gen_o))\n\u001b[0;32m----> 5\u001b[0m \u001b[38;5;28mprint\u001b[39m(\u001b[38;5;28;43mnext\u001b[39;49m\u001b[43m(\u001b[49m\u001b[43mgen_o\u001b[49m\u001b[43m)\u001b[49m)\n",
      "\u001b[0;31mStopIteration\u001b[0m: "
     ]
    }
   ],
   "source": [
    "gen_o = my_func_2()\n",
    "print(next(gen_o))\n",
    "print(\"Ого, мы только что получили число из объекта-генератора по запросу!\")\n",
    "print(next(gen_o))\n",
    "print(next(gen_o))"
   ]
  },
  {
   "cell_type": "markdown",
   "id": "e238ccc1",
   "metadata": {},
   "source": [
    "### Первый пример с генератором"
   ]
  },
  {
   "cell_type": "code",
   "execution_count": 7,
   "id": "d2b474b1",
   "metadata": {},
   "outputs": [
    {
     "name": "stdout",
     "output_type": "stream",
     "text": [
      "Первый подопытный съел 0 и в результате написал:  0\n",
      "Первый подопытный съел 1 и в результате написал:  1\n",
      "Второй подопытный съел 2 и в результате написал:  2222\n",
      "Второй подопытный съел 3 и в результате написал:  3333\n",
      "Второй подопытный съел 4 и в результате написал:  4444\n",
      "Третий подопытный съел 5 и в результате написал:  5555555555\n",
      "Третий подопытный съел 6 и в результате написал:  6666666666\n",
      "Третий подопытный съел 7 и в результате написал:  7777777777\n",
      "Третий подопытный съел 8 и в результате написал:  8888888888\n"
     ]
    }
   ],
   "source": [
    "def skat(n):\n",
    "    cnt = 0\n",
    "    while cnt < n:\n",
    "        yield cnt\n",
    "        cnt += 1\n",
    "\n",
    "\n",
    "def first_eater(golod, skat):\n",
    "    while golod > 0:\n",
    "        eda = next(skat)\n",
    "        print(f\"Первый подопытный съел {eda} и в результате написал: \", eda)\n",
    "        golod -= 1\n",
    "\n",
    "\n",
    "def second_eater(golod, skat):\n",
    "    while golod > 0:\n",
    "        eda = next(skat)\n",
    "        print(f\"Второй подопытный съел {eda} и в результате написал: \", str(eda) * 4)\n",
    "        golod -= 1\n",
    "\n",
    "\n",
    "def third_eater(golod, skat):\n",
    "    while golod > 0:\n",
    "        eda = next(skat)\n",
    "        print(f\"Третий подопытный съел {eda} и в результате написал: \", str(eda) * 10)\n",
    "        golod -= 1\n",
    "\n",
    "\n",
    "skat_gen_obj = skat(100_000_000)\n",
    "golod_1 = 2\n",
    "golod_2 = 3\n",
    "golod_3 = 4\n",
    "\n",
    "try:\n",
    "    first_eater(golod_1, skat_gen_obj)\n",
    "    second_eater(golod_2, skat_gen_obj)\n",
    "    third_eater(golod_3, skat_gen_obj)\n",
    "except StopIteration:\n",
    "    print(\"Заряды в скатерти кончились!\")"
   ]
  },
  {
   "cell_type": "markdown",
   "id": "d5590dd0",
   "metadata": {},
   "source": [
    "### Пример генератора"
   ]
  },
  {
   "cell_type": "code",
   "execution_count": 8,
   "id": "ea34297d",
   "metadata": {},
   "outputs": [
    {
     "name": "stdout",
     "output_type": "stream",
     "text": [
      "<generator object <genexpr> at 0x1105c5490>\n"
     ]
    }
   ],
   "source": [
    "squares = (i ** 2 for i in range(10))\n",
    "print(squares)"
   ]
  },
  {
   "cell_type": "markdown",
   "id": "e4b8a176",
   "metadata": {},
   "source": [
    "### Еще один пример"
   ]
  },
  {
   "cell_type": "code",
   "execution_count": 10,
   "id": "4474d4c4",
   "metadata": {},
   "outputs": [
    {
     "name": "stdout",
     "output_type": "stream",
     "text": [
      "1, 1, 2, 3, 5, 8, 13, 21, 34, 55\n"
     ]
    }
   ],
   "source": [
    "def fib(n):\n",
    "    n_1, n_2 = 1, 1\n",
    "    for i in range(n):\n",
    "        yield n_1\n",
    "        n_1, n_2 = n_2, n_1 + n_2\n",
    "\n",
    "\n",
    "print(\", \".join(str(x) for x in fib(10)))"
   ]
  }
 ],
 "metadata": {
  "kernelspec": {
   "display_name": "Python 3 (ipykernel)",
   "language": "python",
   "name": "python3"
  },
  "language_info": {
   "codemirror_mode": {
    "name": "ipython",
    "version": 3
   },
   "file_extension": ".py",
   "mimetype": "text/x-python",
   "name": "python",
   "nbconvert_exporter": "python",
   "pygments_lexer": "ipython3",
   "version": "3.11.11"
  }
 },
 "nbformat": 4,
 "nbformat_minor": 5
}
