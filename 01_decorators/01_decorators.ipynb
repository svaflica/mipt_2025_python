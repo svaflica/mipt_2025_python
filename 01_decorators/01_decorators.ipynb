{
 "cells": [
  {
   "cell_type": "markdown",
   "id": "d5d7fc2b-19e8-4484-a027-7a433fe33c59",
   "metadata": {},
   "source": [
    "# Декораторы"
   ]
  },
  {
   "cell_type": "markdown",
   "id": "3aa52312-3408-4682-905b-26922994cc0c",
   "metadata": {},
   "source": [
    "![](images/ph2.jpg)"
   ]
  },
  {
   "cell_type": "markdown",
   "id": "cd1c5a0b-52ee-4122-93ce-51ce91205f1b",
   "metadata": {},
   "source": [
    "В Python функция - тоже объект.\n",
    "\n",
    "Поэтому их можно передавать в другие функции:"
   ]
  },
  {
   "cell_type": "code",
   "execution_count": 1,
   "id": "24a4b29b-7e6a-4ff8-a469-dfd8a9f3934c",
   "metadata": {},
   "outputs": [
    {
     "name": "stdout",
     "output_type": "stream",
     "text": [
      "[-100, 1, 2, 2, 3, 100]\n",
      "[100, 3, 2, 2, 1, -100]\n"
     ]
    }
   ],
   "source": [
    "from copy import deepcopy\n",
    "\n",
    "\n",
    "def sort(l, compare_f = lambda x, y: x > y):\n",
    "    l_2 = deepcopy(l)\n",
    "    # да, сортировка не очень, но для примера пойдет\n",
    "    for i in range(len(l_2)):\n",
    "        for j in range(i + 1, len(l_2)):\n",
    "            if compare_f(l_2[i], l_2[j]):\n",
    "                l_2[i], l_2[j] = l_2[j], l_2[i]\n",
    "    return l_2\n",
    "    \n",
    "\n",
    "print(sort([1, 2, 3, 2, -100, 100]))\n",
    "print(sort([1, 2, 3, 2, -100, 100], compare_f=lambda x, y: x < y))"
   ]
  },
  {
   "cell_type": "code",
   "execution_count": null,
   "id": "f90a4770-14c3-45c8-8cf4-1cce5f0d6b2c",
   "metadata": {},
   "outputs": [],
   "source": []
  },
  {
   "cell_type": "markdown",
   "id": "f7b6461e-6e56-4098-82d8-df1f50a2848a",
   "metadata": {},
   "source": [
    "### **Декоратор** - функция, которая в качестве параметра получает функцию и в качестве результата также возвращает функцию"
   ]
  },
  {
   "cell_type": "code",
   "execution_count": 2,
   "id": "a63ae918-7ee3-4077-a63d-7bee3b8c7f61",
   "metadata": {},
   "outputs": [],
   "source": [
    "# пример декоратора\n",
    "def something(func):    \n",
    "    def something_inside():\n",
    "        print(\"Go in\")\n",
    "        func()\n",
    "        print(\"Go out\")\n",
    "    return something_inside"
   ]
  },
  {
   "cell_type": "code",
   "execution_count": 3,
   "id": "5b62541b-3479-4b89-9f35-5b61a48e67cb",
   "metadata": {},
   "outputs": [
    {
     "name": "stdout",
     "output_type": "stream",
     "text": [
      "something\n"
     ]
    }
   ],
   "source": [
    "def print_something():\n",
    "    print(\"something\")\n",
    "\n",
    "print_something()"
   ]
  },
  {
   "cell_type": "markdown",
   "id": "187b15c3-df05-42e8-a1aa-972a89194675",
   "metadata": {},
   "source": [
    "### Попробуемъ вызвать декоратор как обычную функцию"
   ]
  },
  {
   "cell_type": "code",
   "execution_count": 19,
   "id": "0026e363-6ffc-42d2-9afc-94e1e83733da",
   "metadata": {},
   "outputs": [
    {
     "data": {
      "text/plain": [
       "<function __main__.something.<locals>.something_inside()>"
      ]
     },
     "execution_count": 19,
     "metadata": {},
     "output_type": "execute_result"
    }
   ],
   "source": [
    "something(print_something)"
   ]
  },
  {
   "cell_type": "markdown",
   "id": "fdf75933-3ad9-48aa-b8f3-72cea4acc3f7",
   "metadata": {},
   "source": [
    "### А теперь попробуем вызвать функцию, которую нам вернул something"
   ]
  },
  {
   "cell_type": "code",
   "execution_count": 5,
   "id": "0e499dd5-4d53-429b-8e6a-22d7609672d4",
   "metadata": {},
   "outputs": [
    {
     "name": "stdout",
     "output_type": "stream",
     "text": [
      "Go in\n",
      "something\n",
      "Go out\n"
     ]
    }
   ],
   "source": [
    "something(print_something)()"
   ]
  },
  {
   "cell_type": "markdown",
   "id": "db95eca1-56be-42d3-8560-8df02c8e8ab6",
   "metadata": {},
   "source": [
    "### Но умные люди придумали более простой способ использования декораторов"
   ]
  },
  {
   "cell_type": "code",
   "execution_count": 7,
   "id": "1202f440-0c85-46df-8dcd-b5629817ff9a",
   "metadata": {},
   "outputs": [
    {
     "name": "stdout",
     "output_type": "stream",
     "text": [
      "Go in\n",
      "something\n",
      "Go out\n"
     ]
    }
   ],
   "source": [
    "@something\n",
    "def print_something():\n",
    "    print(\"something\")\n",
    "\n",
    "\n",
    "print_something()"
   ]
  },
  {
   "cell_type": "markdown",
   "id": "bf1155cd-292a-45d1-a3f8-13ddcaa013f2",
   "metadata": {},
   "source": [
    "### Иногда приходится использовать несколько декораторов для одной функции"
   ]
  },
  {
   "cell_type": "code",
   "execution_count": 9,
   "id": "b3fb05fd-b1c3-4f5b-b319-fe0523784304",
   "metadata": {},
   "outputs": [
    {
     "name": "stdout",
     "output_type": "stream",
     "text": [
      "Go in x2\n",
      "Go in\n",
      "something\n",
      "Go out\n",
      "Go out x2\n"
     ]
    }
   ],
   "source": [
    "def something(func):    \n",
    "    def something_inside():\n",
    "        print(\"Go in\")\n",
    "        func()\n",
    "        print(\"Go out\")\n",
    "    return something_inside\n",
    "\n",
    "\n",
    "def something2(func):    \n",
    "    def something_inside():\n",
    "        print(\"Go in x2\")\n",
    "        func()\n",
    "        print(\"Go out x2\")\n",
    "    return something_inside\n",
    "\n",
    "\n",
    "@something2\n",
    "@something\n",
    "def print_something():\n",
    "    print(\"something\")\n",
    "\n",
    "\n",
    "print_something()"
   ]
  },
  {
   "cell_type": "markdown",
   "id": "0fb5d870-cbb5-4232-8681-fac227a4fbeb",
   "metadata": {},
   "source": [
    "### Что будет, если возьмем 3 декоратора?"
   ]
  },
  {
   "cell_type": "code",
   "execution_count": 10,
   "id": "7f96e59a-f828-4199-9848-fc538a0339e3",
   "metadata": {},
   "outputs": [],
   "source": [
    "def something3(func):    \n",
    "    def something_inside():\n",
    "        print(\"Go in x3\")\n",
    "        func()\n",
    "        print(\"Go out x3\")\n",
    "    return something_inside"
   ]
  },
  {
   "cell_type": "code",
   "execution_count": 11,
   "id": "223ae75a-ea93-4519-ad1b-61e4daba6531",
   "metadata": {},
   "outputs": [
    {
     "name": "stdout",
     "output_type": "stream",
     "text": [
      "Go in x3\n",
      "Go in x2\n",
      "Go in\n",
      "something\n",
      "Go out\n",
      "Go out x2\n",
      "Go out x3\n"
     ]
    }
   ],
   "source": [
    "@something3\n",
    "@something2\n",
    "@something\n",
    "def print_something():\n",
    "    print(\"something\")\n",
    "\n",
    "\n",
    "print_something()"
   ]
  },
  {
   "cell_type": "markdown",
   "id": "b215b8bf-cdcb-473d-8d14-73e2b89153bb",
   "metadata": {},
   "source": [
    "![](images/ph1.jpeg)"
   ]
  },
  {
   "cell_type": "markdown",
   "id": "ffb08f6e-3f9a-4cac-a3c9-a2029ad7a5e8",
   "metadata": {},
   "source": [
    "### А если функция возвращает значения?"
   ]
  },
  {
   "cell_type": "code",
   "execution_count": 12,
   "id": "53cd527f-6362-40ce-b33c-72d74c46aa1c",
   "metadata": {},
   "outputs": [],
   "source": [
    "def something(func):    \n",
    "    def something_inside():\n",
    "        print(\"Go in\")\n",
    "        result = func()\n",
    "        print(\"Go out\")\n",
    "        return result\n",
    "    return something_inside"
   ]
  },
  {
   "cell_type": "code",
   "execution_count": 14,
   "id": "aaf69bcd-758f-4118-9df6-d1bed15505a6",
   "metadata": {},
   "outputs": [
    {
     "name": "stdout",
     "output_type": "stream",
     "text": [
      "Go in\n",
      "Go out\n",
      "b = 69\n"
     ]
    }
   ],
   "source": [
    "from random import randint\n",
    "\n",
    "\n",
    "def return_random():\n",
    "    return randint(0, 100)\n",
    "\n",
    "\n",
    "b = something(return_random)()\n",
    "print(f'b = {b}')"
   ]
  },
  {
   "cell_type": "code",
   "execution_count": 15,
   "id": "ab09f9f9-482b-490d-b5e7-f1a96a553916",
   "metadata": {},
   "outputs": [
    {
     "name": "stdout",
     "output_type": "stream",
     "text": [
      "Go in\n",
      "Go out\n",
      "b = 56\n"
     ]
    }
   ],
   "source": [
    "@something\n",
    "def return_random():\n",
    "    return randint(0, 100)\n",
    "\n",
    "b = return_random()\n",
    "print(f'b = {b}')"
   ]
  },
  {
   "cell_type": "markdown",
   "id": "073b7f1f-2af7-4ea4-9e88-7a33d7e0d162",
   "metadata": {},
   "source": [
    "### А если функция принимает аргументы?"
   ]
  },
  {
   "cell_type": "code",
   "execution_count": 16,
   "id": "80f771a1-4fcf-415b-aaf1-bd4e657d6243",
   "metadata": {},
   "outputs": [],
   "source": [
    "def something(func):    \n",
    "    def something_inside(a, b):\n",
    "        print(f\"Go in; a = {a}, b = {b}\")\n",
    "        result = func(a, b)\n",
    "        print(f\"Go out; a = {a}, b = {b}\")\n",
    "        return result\n",
    "    return something_inside"
   ]
  },
  {
   "cell_type": "code",
   "execution_count": 17,
   "id": "977bd574-f7e2-44b4-b7a7-9eb36fc88135",
   "metadata": {},
   "outputs": [
    {
     "name": "stdout",
     "output_type": "stream",
     "text": [
      "Go in; a = 5, b = 5\n",
      "Go out; a = 5, b = 5\n",
      "c = 5\n"
     ]
    }
   ],
   "source": [
    "from random import randint\n",
    "\n",
    "\n",
    "def return_random(a, b):\n",
    "    return randint(a, b)\n",
    "\n",
    "\n",
    "c = something(return_random)(5, 5)\n",
    "print(f'c = {c}')"
   ]
  },
  {
   "cell_type": "code",
   "execution_count": 18,
   "id": "3b55b2d1-7179-4f8f-a288-0709a0529850",
   "metadata": {},
   "outputs": [
    {
     "name": "stdout",
     "output_type": "stream",
     "text": [
      "Go in; a = 6, b = 6\n",
      "Go out; a = 6, b = 6\n",
      "c = 6\n"
     ]
    }
   ],
   "source": [
    "@something\n",
    "def return_random(a, b):\n",
    "    return randint(a, b)\n",
    "\n",
    "c = return_random(6, 6)\n",
    "print(f'c = {c}')"
   ]
  },
  {
   "cell_type": "markdown",
   "id": "8160223a-aebb-4bf3-abe9-43703dc98d08",
   "metadata": {},
   "source": [
    "### А если не знаем количество аргументов? Или их наименование"
   ]
  },
  {
   "cell_type": "code",
   "execution_count": 22,
   "id": "e4bd8f7c-0c46-4e54-908c-00ca3ed2aaee",
   "metadata": {},
   "outputs": [],
   "source": [
    "def something(func):\n",
    "    # можно и только args, и только kwargs. если не знаете, что это, вопите и спрашивайте :)\n",
    "    def something_inside(*args, **kwargs):\n",
    "        print(f\"Go in; args = {args}, kwargs = {kwargs}\")\n",
    "        result = func(*args, **kwargs)\n",
    "        print(f\"Go out; args = {args}, kwargs = {kwargs}\")\n",
    "        return result\n",
    "    return something_inside"
   ]
  },
  {
   "cell_type": "code",
   "execution_count": 23,
   "id": "9aee46c4-ae27-42d0-8072-a47d3a977330",
   "metadata": {},
   "outputs": [
    {
     "name": "stdout",
     "output_type": "stream",
     "text": [
      "Go in; args = (5, 5), kwargs = {'c': 8, 'd': 9}\n",
      "Go out; args = (5, 5), kwargs = {'c': 8, 'd': 9}\n",
      "min4 = 5\n",
      "\n",
      "Go in; args = (5, 5), kwargs = {'e': 0, 'c': 8, 'd': 9}\n",
      "Go out; args = (5, 5), kwargs = {'e': 0, 'c': 8, 'd': 9}\n",
      "min5 = 0\n"
     ]
    }
   ],
   "source": [
    "from random import randint\n",
    "\n",
    "\n",
    "def return_min_4(a, b, c, d):\n",
    "    return min([a, b, c, d])\n",
    "\n",
    "def return_min_5(a, b, c, d, e):\n",
    "    return min([a, b, c, d, e])\n",
    "\n",
    "\n",
    "c = something(return_min_4)(5, 5, c=8, d=9)\n",
    "print(f'min4 = {c}', end='\\n\\n')\n",
    "\n",
    "c = something(return_min_5)(5, 5, e=0, c=8, d=9)\n",
    "print(f'min5 = {c}')"
   ]
  },
  {
   "cell_type": "code",
   "execution_count": 25,
   "id": "0b948cb1-0b59-4be5-ac7d-e1e28c59e243",
   "metadata": {},
   "outputs": [
    {
     "name": "stdout",
     "output_type": "stream",
     "text": [
      "Go in; args = (5, 5), kwargs = {'c': 8, 'd': 9}\n",
      "Go out; args = (5, 5), kwargs = {'c': 8, 'd': 9}\n",
      "min4 = 5\n",
      "\n",
      "Go in; args = (5, 5), kwargs = {'e': 0, 'c': 8, 'd': 9}\n",
      "Go out; args = (5, 5), kwargs = {'e': 0, 'c': 8, 'd': 9}\n",
      "min5 = 0\n"
     ]
    }
   ],
   "source": [
    "@something\n",
    "def return_min_4(a, b, c, d):\n",
    "    return min([a, b, c, d])\n",
    "\n",
    "@something\n",
    "def return_min_5(a, b, c, d, e):\n",
    "    return min([a, b, c, d, e])\n",
    "\n",
    "c = return_min_4(5, 5, c=8, d=9)\n",
    "print(f'min4 = {c}', end='\\n\\n')\n",
    "\n",
    "c = return_min_5(5, 5, e=0, c=8, d=9)\n",
    "print(f'min5 = {c}')"
   ]
  },
  {
   "cell_type": "markdown",
   "id": "08d40d34-500b-424f-857e-7a33639e7501",
   "metadata": {},
   "source": [
    "### А могут ли декораторы сами принимать аргументы?"
   ]
  },
  {
   "cell_type": "code",
   "execution_count": 26,
   "id": "4902af49-7ecf-4a2c-9340-e8f4e6c16b59",
   "metadata": {},
   "outputs": [],
   "source": [
    "# спойлер: могут\n",
    "import functools\n",
    "\n",
    "\n",
    "def something(num=3):\n",
    "    def something_inside(func):\n",
    "        @functools.wraps(func)\n",
    "        def something_inside2(*args, **kwargs):\n",
    "            print(f\"Go in x{num}; args = {args}, kwargs = {kwargs}\")\n",
    "            result = func(*args, **kwargs)\n",
    "            print(f\"Go out x{num}; args = {args}, kwargs = {kwargs}\")\n",
    "            return result\n",
    "        return something_inside2\n",
    "    return something_inside"
   ]
  },
  {
   "cell_type": "code",
   "execution_count": 27,
   "id": "07a27e66-ae4f-480d-8054-d2cda64697e5",
   "metadata": {},
   "outputs": [
    {
     "data": {
      "text/plain": [
       "<function __main__.something.<locals>.something_inside(func)>"
      ]
     },
     "execution_count": 27,
     "metadata": {},
     "output_type": "execute_result"
    }
   ],
   "source": [
    "def return_random(a, b):\n",
    "    return randint(a, b)\n",
    "\n",
    "something(num=5)"
   ]
  },
  {
   "cell_type": "code",
   "execution_count": 28,
   "id": "a3ff88b5-2f68-4b0a-97d5-f3819cfefbe8",
   "metadata": {},
   "outputs": [
    {
     "data": {
      "text/plain": [
       "<function __main__.return_random(a, b)>"
      ]
     },
     "execution_count": 28,
     "metadata": {},
     "output_type": "execute_result"
    }
   ],
   "source": [
    "something(num=5)(return_random)"
   ]
  },
  {
   "cell_type": "code",
   "execution_count": 29,
   "id": "7b572f6c-bdb1-451d-93ce-91fd60f71453",
   "metadata": {},
   "outputs": [
    {
     "name": "stdout",
     "output_type": "stream",
     "text": [
      "Go in x5; args = (5, 100), kwargs = {}\n",
      "Go out x5; args = (5, 100), kwargs = {}\n",
      "c = 57\n"
     ]
    }
   ],
   "source": [
    "c = something(num=5)(return_random)(5, 100)\n",
    "print(f\"c = {c}\")"
   ]
  },
  {
   "cell_type": "code",
   "execution_count": 30,
   "id": "3f620483-ebf8-4173-a067-2a2a02597d10",
   "metadata": {},
   "outputs": [
    {
     "name": "stdout",
     "output_type": "stream",
     "text": [
      "Go in x5; args = (10, 20), kwargs = {}\n",
      "Go out x5; args = (10, 20), kwargs = {}\n"
     ]
    },
    {
     "data": {
      "text/plain": [
       "17"
      ]
     },
     "execution_count": 30,
     "metadata": {},
     "output_type": "execute_result"
    }
   ],
   "source": [
    "@something(5)\n",
    "def return_random(a, b):\n",
    "    return randint(a, b)\n",
    "\n",
    "return_random(10, 20)"
   ]
  },
  {
   "cell_type": "code",
   "execution_count": 31,
   "id": "814a6a46-9a76-4a76-a958-3ed8ef6b272d",
   "metadata": {},
   "outputs": [
    {
     "name": "stdout",
     "output_type": "stream",
     "text": [
      "Go in x10; args = (10, 20), kwargs = {}\n",
      "Go out x10; args = (10, 20), kwargs = {}\n"
     ]
    },
    {
     "data": {
      "text/plain": [
       "20"
      ]
     },
     "execution_count": 31,
     "metadata": {},
     "output_type": "execute_result"
    }
   ],
   "source": [
    "N = 10\n",
    "\n",
    "@something(num=N)\n",
    "def return_random(a, b):\n",
    "    return randint(a, b)\n",
    "\n",
    "return_random(10, 20)"
   ]
  },
  {
   "cell_type": "code",
   "execution_count": null,
   "id": "d391d609-64fa-43fb-a53a-d516251eb650",
   "metadata": {},
   "outputs": [],
   "source": []
  },
  {
   "cell_type": "code",
   "execution_count": null,
   "id": "e71f1528",
   "metadata": {},
   "outputs": [],
   "source": []
  },
  {
   "cell_type": "code",
   "execution_count": null,
   "id": "c95cbe62",
   "metadata": {},
   "outputs": [],
   "source": []
  },
  {
   "cell_type": "code",
   "execution_count": null,
   "id": "1777ac05",
   "metadata": {},
   "outputs": [],
   "source": [
    "# перенос\n",
    "запись\n",
    "домашка\n",
    "ссылка"
   ]
  }
 ],
 "metadata": {
  "kernelspec": {
   "display_name": "Python 3 (ipykernel)",
   "language": "python",
   "name": "python3"
  },
  "language_info": {
   "codemirror_mode": {
    "name": "ipython",
    "version": 3
   },
   "file_extension": ".py",
   "mimetype": "text/x-python",
   "name": "python",
   "nbconvert_exporter": "python",
   "pygments_lexer": "ipython3",
   "version": "3.11.11"
  }
 },
 "nbformat": 4,
 "nbformat_minor": 5
}
