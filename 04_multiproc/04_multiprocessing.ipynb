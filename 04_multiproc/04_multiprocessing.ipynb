{
 "cells": [
  {
   "cell_type": "markdown",
   "id": "9ecca9a1",
   "metadata": {},
   "source": [
    "## !! Все примеры нужно запускать не отсюда, а из скриптов"
   ]
  },
  {
   "attachments": {},
   "cell_type": "markdown",
   "id": "6e65c45b",
   "metadata": {},
   "source": [
    "**Multiprocessing** позволяет создавать процессы, которые выполняются полностью независимо друг от друга\n",
    "\n",
    "Способы создания нового процесса в multiprocessing:\n",
    "\n",
    "- fork\n",
    "- spawn\n",
    "- forkserver"
   ]
  },
  {
   "cell_type": "markdown",
   "id": "2e46f0ba",
   "metadata": {},
   "source": [
    "## Контекст (Context)"
   ]
  },
  {
   "cell_type": "code",
   "execution_count": null,
   "id": "637ab5be",
   "metadata": {},
   "outputs": [],
   "source": [
    "import multiprocessing as mp\n",
    "\n",
    "if __name__ == '__main__':\n",
    "    context_spawn = mp.get_context('spawn')\n",
    "    context_fork = mp.get_context('fork')"
   ]
  },
  {
   "cell_type": "markdown",
   "id": "8afdd9f8",
   "metadata": {},
   "source": [
    "## Процесс (Process)"
   ]
  },
  {
   "cell_type": "code",
   "execution_count": null,
   "id": "8c221a79",
   "metadata": {},
   "outputs": [],
   "source": [
    "from multiprocessing import Process\n",
    "\n",
    "def print_one_name(name):\n",
    "    print('Name:', name)\n",
    "\n",
    "if __name__ == '__main__':\n",
    "    p = Process(target=print_one_name, args=('Bob',))\n",
    "    p.start()\n",
    "    p.join()"
   ]
  },
  {
   "cell_type": "markdown",
   "id": "169c922a",
   "metadata": {},
   "source": [
    "## Создание процесса через fork\n",
    "\n",
    "- Инициализируется объект класса Popen [при старте]\n",
    "- os.fork\n",
    "- Вызов пользовательской функции"
   ]
  },
  {
   "attachments": {},
   "cell_type": "markdown",
   "id": "b9e1028c",
   "metadata": {},
   "source": [
    "## Создание процесса через spawn\n",
    "\n",
    "- Инициализируется объект класса Popen [при старте]\n",
    "- Собирается информация о родительском процессе\n",
    "- Сериализуется словарь с информацией о родительском процессе и сам объект процесса\n",
    "- Создается команда для запуска интепретатора, в которую передаются все нужные аргументы\n",
    "- В дочерний процесс передаётся сериализованная информация о процессе\n"
   ]
  },
  {
   "cell_type": "markdown",
   "id": "d5ce7b38",
   "metadata": {},
   "source": [
    "## Завершение процесса (join)\n",
    "\n",
    "- родительский процесс дожидается завершения дочернего\n",
    "- происходит несколько проверок\n",
    "- вызывается метод wait"
   ]
  },
  {
   "cell_type": "markdown",
   "id": "0b9a9864",
   "metadata": {},
   "source": [
    "## Пул процессов\n",
    "\n",
    "- Pool.apply() - вызывает функцию с аргументами\n",
    "\n",
    "- Pool.apply_async() - асинхронный вариант Pool.apply(). То есть apply_async() не дожидается результата завершения работы функции\n",
    "\n",
    "- Pool.map() - многопроцессорный аналог встроенной функции map(), которая применяет функцию к любой последовательности, поддерживающей итерирование, и возвращает список результатов работы этой функции.\n",
    "\n",
    "- Pool.map_async() - асинхронный вариант map()"
   ]
  },
  {
   "cell_type": "code",
   "execution_count": null,
   "id": "bad9c7af",
   "metadata": {},
   "outputs": [],
   "source": [
    "import time  \n",
    "from multiprocessing.pool import Pool  \n",
    "  \n",
    "def wait_a_second(x):  \n",
    "    time.sleep(1)  \n",
    "    return x  \n",
    "  \n",
    "if __name__ == \"__main__\":  \n",
    "    with Pool(4) as pool:  \n",
    "        result = pool.map(wait_a_second, [1,2,3,4])  \n",
    "        print(result)"
   ]
  },
  {
   "cell_type": "markdown",
   "id": "163c4b7c",
   "metadata": {},
   "source": [
    "## Передача данных при создании процесса"
   ]
  },
  {
   "cell_type": "code",
   "execution_count": null,
   "id": "e0253a4c",
   "metadata": {},
   "outputs": [],
   "source": [
    "import multiprocessing as mp\n",
    "\n",
    "def test(targetList, newElem):\n",
    "    targetList.append(newElem)\n",
    "    print(new_Elem, 'added')\n",
    "\n",
    "\n",
    "if __name__ == '__main__':\n",
    "    myList = [1, 0]\n",
    "    test(myList, 4)\n",
    "    \n",
    "    print('List after just func', myList)\n",
    "\n",
    "    p = mp.Process(target=test, args=[myList, 5]) \n",
    "   \n",
    "\n",
    "    p.start()\n",
    "    p.join()\n",
    "    print('List after multiproc func', myList)\n"
   ]
  },
  {
   "cell_type": "markdown",
   "id": "b1c8fc9b",
   "metadata": {},
   "source": [
    "## Shared Memory"
   ]
  },
  {
   "cell_type": "code",
   "execution_count": null,
   "id": "4ee06c57",
   "metadata": {},
   "outputs": [],
   "source": [
    "import multiprocessing as mp\n",
    "\n",
    "def sharedMem(targetNum, targetArr):\n",
    "    targetNum.value = 228\n",
    "    for i in range(len(targetArr)):\n",
    "        targetArr[i] = -targetArr[i]\n",
    "\n",
    "if __name__ == '__main__':\n",
    "    myNum = mp.Value('d', 0.0)\n",
    "    myArr = mp.Array('i', range(10))\n",
    "\n",
    "    p = mp.Process(target=sharedMem, args=(myNum, myArr))\n",
    "    p.start()\n",
    "    p.join()\n",
    "\n",
    "    print(myNum.value)\n",
    "    print(myArr[:])"
   ]
  },
  {
   "cell_type": "markdown",
   "id": "121309be",
   "metadata": {},
   "source": [
    "## Server process. SyncManager"
   ]
  },
  {
   "cell_type": "code",
   "execution_count": null,
   "id": "44d90a2f",
   "metadata": {},
   "outputs": [],
   "source": [
    "import multiprocessing as mp\n",
    "\n",
    "def test(targetDict, targetList):\n",
    "    targetDict[1] = '2'\n",
    "    targetDict['3'] = 2\n",
    "    targetDict[0.25] = 0\n",
    "    targetList.reverse()\n",
    "\n",
    "if __name__ == '__main__':\n",
    "    with mp.Manager() as manager:\n",
    "        myDict = manager.dict()\n",
    "        myList = manager.list(range(10))\n",
    "\n",
    "        p = mp.Process(target=test, args=(myDict, myList))\n",
    "        p.start()\n",
    "        p.join()\n",
    "\n",
    "        print(myDict)\n",
    "        print(myList)"
   ]
  },
  {
   "cell_type": "markdown",
   "id": "00f5775d",
   "metadata": {},
   "source": [
    "## Proxy-объекты"
   ]
  },
  {
   "cell_type": "code",
   "execution_count": null,
   "id": "f3dfae06",
   "metadata": {},
   "outputs": [],
   "source": [
    "manager.list([1,2,3]) == [1,2,3] -> False\n",
    "manager.list([1,2,3])[:] == [1,2,3] -> True"
   ]
  },
  {
   "cell_type": "markdown",
   "id": "337a3212",
   "metadata": {},
   "source": [
    "## Имплементация пользовательского прокси и менеджера"
   ]
  },
  {
   "cell_type": "code",
   "execution_count": null,
   "id": "17fe1171",
   "metadata": {},
   "outputs": [],
   "source": [
    "from multiprocessing.managers import BaseManager\n",
    "\n",
    "class MyManager(BaseManager):\n",
    "    pass"
   ]
  },
  {
   "cell_type": "code",
   "execution_count": null,
   "id": "4c12ea44",
   "metadata": {},
   "outputs": [],
   "source": [
    "class MyClass:\n",
    "\n",
    "    def __init__(self):\n",
    "        self.x = 10\n",
    "\n",
    "    def __str__(self):\n",
    "        return str(self.x)\n",
    "    \n",
    "    def change(self):\n",
    "        self.x += 200"
   ]
  },
  {
   "cell_type": "code",
   "execution_count": null,
   "id": "387e00c9",
   "metadata": {},
   "outputs": [],
   "source": [
    "from multiprocessing.managers import NamespaceProxy\n",
    "\n",
    "class MyClassProxy(NamespaceProxy):\n",
    "    pass"
   ]
  },
  {
   "cell_type": "code",
   "execution_count": null,
   "id": "182db6f0",
   "metadata": {},
   "outputs": [],
   "source": [
    "MyManager.register('MyClassRegistered', MyClass, MyClassProxy)\n",
    "\n",
    "M = MyManager()\n",
    "M.start()\n",
    "MC = M.MyClassRegistered()"
   ]
  },
  {
   "cell_type": "code",
   "execution_count": null,
   "id": "a0fbfe08",
   "metadata": {},
   "outputs": [],
   "source": [
    "def changer(obj):\n",
    "    obj.change()\n",
    "\n",
    "if __name__ == '__main__':\n",
    "    M = MyManager()\n",
    "    M.start()\n",
    "\n",
    "    MC = M.MyClassRegistred()\n",
    "    p = mp.Process(target = changer, args=(MC,))\n",
    "    p.start()\n",
    "    p.join()\n",
    "    print('Here I am: ', MC.x)"
   ]
  },
  {
   "cell_type": "code",
   "execution_count": null,
   "id": "9ca03d53",
   "metadata": {},
   "outputs": [],
   "source": []
  }
 ],
 "metadata": {
  "kernelspec": {
   "display_name": "Python 3 (ipykernel)",
   "language": "python",
   "name": "python3"
  },
  "language_info": {
   "codemirror_mode": {
    "name": "ipython",
    "version": 3
   },
   "file_extension": ".py",
   "mimetype": "text/x-python",
   "name": "python",
   "nbconvert_exporter": "python",
   "pygments_lexer": "ipython3",
   "version": "3.11.11"
  }
 },
 "nbformat": 4,
 "nbformat_minor": 5
}
