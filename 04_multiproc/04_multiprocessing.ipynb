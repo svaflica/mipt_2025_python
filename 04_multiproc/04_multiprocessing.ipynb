{
 "cells": [
  {
   "cell_type": "markdown",
   "id": "c7295a97",
   "metadata": {},
   "source": [
    "## !! Все примеры нужно запускать не отсюда, а из скриптов"
   ]
  },
  {
   "attachments": {},
   "cell_type": "markdown",
   "id": "fba73f4d",
   "metadata": {},
   "source": [
    "**Multiprocessing** позволяет создавать процессы, которые выполняются полностью независимо друг от друга\n",
    "\n",
    "Способы создания нового процесса в multiprocessing:\n",
    "\n",
    "- fork\n",
    "- spawn\n",
    "- forkserver"
   ]
  },
  {
   "cell_type": "markdown",
   "id": "526d7032",
   "metadata": {},
   "source": [
    "## Контекст (Context)"
   ]
  },
  {
   "cell_type": "code",
   "execution_count": null,
   "id": "b60c147b",
   "metadata": {},
   "outputs": [],
   "source": [
    "import multiprocessing as mp\n",
    "\n",
    "if __name__ == '__main__':\n",
    "    context_spawn = mp.get_context('spawn')\n",
    "    context_fork = mp.get_context('fork')"
   ]
  },
  {
   "cell_type": "markdown",
   "id": "a12f33f6",
   "metadata": {},
   "source": [
    "## Процесс (Process)"
   ]
  },
  {
   "cell_type": "code",
   "execution_count": null,
   "id": "b178383b",
   "metadata": {},
   "outputs": [],
   "source": [
    "from multiprocessing import Process\n",
    "\n",
    "def print_one_name(name):\n",
    "    print('Name:', name)\n",
    "\n",
    "if __name__ == '__main__':\n",
    "    p = Process(target=print_one_name, args=('Bob',))\n",
    "    p.start()\n",
    "    p.join()"
   ]
  },
  {
   "cell_type": "markdown",
   "id": "acae0728",
   "metadata": {},
   "source": [
    "## Создание процесса через fork\n",
    "\n",
    "- Инициализируется объект класса Popen [при старте]\n",
    "- os.fork\n",
    "- Вызов пользовательской функции"
   ]
  },
  {
   "attachments": {},
   "cell_type": "markdown",
   "id": "0354baa5",
   "metadata": {},
   "source": [
    "## Создание процесса через spawn\n",
    "\n",
    "- Инициализируется объект класса Popen [при старте]\n",
    "- Собирается информация о родительском процессе\n",
    "- Сериализуется словарь с информацией о родительском процессе и сам объект процесса\n",
    "- Создается команда для запуска интепретатора, в которую передаются все нужные аргументы\n",
    "- В дочерний процесс передаётся сериализованная информация о процессе\n"
   ]
  },
  {
   "cell_type": "markdown",
   "id": "07192db6",
   "metadata": {},
   "source": [
    "## Завершение процесса (join)\n",
    "\n",
    "- родительский процесс дожидается завершения дочернего\n",
    "- происходит несколько проверок\n",
    "- вызывается метод wait"
   ]
  },
  {
   "cell_type": "markdown",
   "id": "162f6e10",
   "metadata": {},
   "source": [
    "## Пул процессов\n",
    "\n",
    "- Pool.apply() - вызывает функцию с аргументами\n",
    "\n",
    "- Pool.apply_async() - асинхронный вариант Pool.apply(). То есть apply_async() не дожидается результата завершения работы функции\n",
    "\n",
    "- Pool.map() - многопроцессорный аналог встроенной функции map(), которая применяет функцию к любой последовательности, поддерживающей итерирование, и возвращает список результатов работы этой функции.\n",
    "\n",
    "- Pool.map_async() - асинхронный вариант map()"
   ]
  },
  {
   "cell_type": "code",
   "execution_count": null,
   "id": "09831ab7",
   "metadata": {},
   "outputs": [],
   "source": [
    "import time  \n",
    "from multiprocessing.pool import Pool  \n",
    "  \n",
    "def wait_a_second(x):  \n",
    "    time.sleep(1)  \n",
    "    return x  \n",
    "  \n",
    "if __name__ == \"__main__\":  \n",
    "    with Pool(4) as pool:  \n",
    "        result = pool.map(wait_a_second, [1,2,3,4])  \n",
    "        print(result)"
   ]
  },
  {
   "cell_type": "markdown",
   "id": "f43b9e47",
   "metadata": {},
   "source": [
    "## Передача данных при создании процесса"
   ]
  },
  {
   "cell_type": "code",
   "execution_count": null,
   "id": "5e3b791f",
   "metadata": {},
   "outputs": [],
   "source": [
    "import multiprocessing as mp\n",
    "\n",
    "def test(targetList, newElem):\n",
    "    targetList.append(newElem)\n",
    "    print(new_Elem, 'added')\n",
    "\n",
    "\n",
    "if __name__ == '__main__':\n",
    "    myList = [1, 0]\n",
    "    test(myList, 4)\n",
    "    \n",
    "    print('List after just func', myList)\n",
    "\n",
    "    p = mp.Process(target=test, args=[myList, 5]) \n",
    "   \n",
    "\n",
    "    p.start()\n",
    "    p.join()\n",
    "    print('List after multiproc func', myList)\n"
   ]
  },
  {
   "cell_type": "markdown",
   "id": "e2de9774",
   "metadata": {},
   "source": [
    "## Shared Memory"
   ]
  },
  {
   "cell_type": "code",
   "execution_count": null,
   "id": "6235a9af",
   "metadata": {},
   "outputs": [],
   "source": [
    "import multiprocessing as mp\n",
    "\n",
    "def sharedMem(targetNum, targetArr):\n",
    "    targetNum.value = 228\n",
    "    for i in range(len(targetArr)):\n",
    "        targetArr[i] = -targetArr[i]\n",
    "\n",
    "if __name__ == '__main__':\n",
    "    myNum = mp.Value('d', 0.0)\n",
    "    myArr = mp.Array('i', range(10))\n",
    "\n",
    "    p = mp.Process(target=sharedMem, args=(myNum, myArr))\n",
    "    p.start()\n",
    "    p.join()\n",
    "\n",
    "    print(myNum.value)\n",
    "    print(myArr[:])"
   ]
  },
  {
   "cell_type": "markdown",
   "id": "e923c0b8",
   "metadata": {},
   "source": [
    "## Server process. SyncManager"
   ]
  },
  {
   "cell_type": "code",
   "execution_count": null,
   "id": "ec0f3581",
   "metadata": {},
   "outputs": [],
   "source": [
    "import multiprocessing as mp\n",
    "\n",
    "def test(targetDict, targetList):\n",
    "    targetDict[1] = '2'\n",
    "    targetDict['3'] = 2\n",
    "    targetDict[0.25] = 0\n",
    "    targetList.reverse()\n",
    "\n",
    "if __name__ == '__main__':\n",
    "    with mp.Manager() as manager:\n",
    "        myDict = manager.dict()\n",
    "        myList = manager.list(range(10))\n",
    "\n",
    "        p = mp.Process(target=test, args=(myDict, myList))\n",
    "        p.start()\n",
    "        p.join()\n",
    "\n",
    "        print(myDict)\n",
    "        print(myList)"
   ]
  },
  {
   "cell_type": "markdown",
   "id": "91f2f051",
   "metadata": {},
   "source": [
    "## Proxy-объекты"
   ]
  },
  {
   "cell_type": "code",
   "execution_count": null,
   "id": "ac6e3143",
   "metadata": {},
   "outputs": [],
   "source": [
    "manager.list([1,2,3]) == [1,2,3] -> False\n",
    "manager.list([1,2,3])[:] == [1,2,3] -> True"
   ]
  },
  {
   "cell_type": "markdown",
   "id": "9f135bbc",
   "metadata": {},
   "source": [
    "## Имплементация пользовательского прокси и менеджера"
   ]
  },
  {
   "cell_type": "code",
   "execution_count": null,
   "id": "6c78059a",
   "metadata": {},
   "outputs": [],
   "source": [
    "from multiprocessing.managers import BaseManager\n",
    "\n",
    "class MyManager(BaseManager):\n",
    "    pass"
   ]
  },
  {
   "cell_type": "code",
   "execution_count": null,
   "id": "9e12cd30",
   "metadata": {},
   "outputs": [],
   "source": [
    "class MyClass:\n",
    "\n",
    "    def __init__(self):\n",
    "        self.x = 10\n",
    "\n",
    "    def __str__(self):\n",
    "        return str(self.x)\n",
    "    \n",
    "    def change(self):\n",
    "        self.x += 200"
   ]
  },
  {
   "cell_type": "code",
   "execution_count": null,
   "id": "89e8e131",
   "metadata": {},
   "outputs": [],
   "source": [
    "from multiprocessing.managers import NamespaceProxy\n",
    "\n",
    "class MyClassProxy(NamespaceProxy):\n",
    "    pass"
   ]
  },
  {
   "cell_type": "code",
   "execution_count": null,
   "id": "3ecaed1d",
   "metadata": {},
   "outputs": [],
   "source": [
    "MyManager.register('MyClassRegistered', MyClass, MyClassProxy)\n",
    "\n",
    "M = MyManager()\n",
    "M.start()\n",
    "MC = M.MyClassRegistered()"
   ]
  },
  {
   "cell_type": "code",
   "execution_count": null,
   "id": "c390f87d",
   "metadata": {},
   "outputs": [],
   "source": [
    "def changer(obj):\n",
    "    obj.change()\n",
    "\n",
    "if __name__ == '__main__':\n",
    "    M = MyManager()\n",
    "    M.start()\n",
    "    MC = M.MyClassRegistred()\n",
    "    p = mp.Process(target = changer, args=(MC,))\n",
    "    p.start()\n",
    "    p.join()\n",
    "    print('Here I am: ', MC.x)"
   ]
  },
  {
   "cell_type": "code",
   "execution_count": null,
   "id": "052067aa",
   "metadata": {},
   "outputs": [],
   "source": []
  }
 ],
 "metadata": {
  "kernelspec": {
   "display_name": "Python 3 (ipykernel)",
   "language": "python",
   "name": "python3"
  },
  "language_info": {
   "codemirror_mode": {
    "name": "ipython",
    "version": 3
   },
   "file_extension": ".py",
   "mimetype": "text/x-python",
   "name": "python",
   "nbconvert_exporter": "python",
   "pygments_lexer": "ipython3",
   "version": "3.11.11"
  }
 },
 "nbformat": 4,
 "nbformat_minor": 5
}
