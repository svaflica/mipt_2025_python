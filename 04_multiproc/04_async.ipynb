{
 "cells": [
  {
   "attachments": {},
   "cell_type": "markdown",
   "id": "8ec7b020",
   "metadata": {},
   "source": [
    "**Асинхронное программирование** — это концепция программирования, при применении которой запуск длительных операций происходит без ожидания их завершения и не блокирует дальнейшее выполнение программы"
   ]
  },
  {
   "cell_type": "markdown",
   "id": "574bff6a",
   "metadata": {},
   "source": [
    "**future** - идентификатор асинхронного вызова функции, позволяющий проверять состояние вызова и получать результаты работы функции."
   ]
  },
  {
   "cell_type": "markdown",
   "id": "efd78861",
   "metadata": {},
   "source": [
    "**Корутина** — это функция, выполнение которой можно приостановить и возобновить."
   ]
  },
  {
   "cell_type": "code",
   "execution_count": null,
   "id": "205d8423",
   "metadata": {},
   "outputs": [],
   "source": [
    "async def custom_coro():\n",
    "    # ..."
   ]
  },
  {
   "cell_type": "code",
   "execution_count": null,
   "id": "a81082a7",
   "metadata": {},
   "outputs": [],
   "source": [
    "coro = custom_coro() # объект корутины"
   ]
  },
  {
   "cell_type": "code",
   "execution_count": null,
   "id": "94d0ef1c",
   "metadata": {},
   "outputs": [],
   "source": [
    "await custom_coro() # планирование выполнения"
   ]
  },
  {
   "cell_type": "markdown",
   "id": "b935dc40",
   "metadata": {},
   "source": [
    "**Асинхронный итератор** — это итератор, который выдаёт объекты, допускающие ожидание."
   ]
  },
  {
   "cell_type": "code",
   "execution_count": null,
   "id": "f55e2268",
   "metadata": {},
   "outputs": [],
   "source": [
    "async for item in async_iterator:\n",
    "    print(item)"
   ]
  },
  {
   "cell_type": "markdown",
   "id": "0391509f",
   "metadata": {},
   "source": [
    "**Асинхронный менеджер контекста** — это менеджер контекста, который может приостанавливать выполнение в своих методах enter и exit."
   ]
  },
  {
   "cell_type": "code",
   "execution_count": null,
   "id": "e90881c0",
   "metadata": {},
   "outputs": [],
   "source": [
    "async with ... as var:\n",
    "    ..."
   ]
  },
  {
   "cell_type": "code",
   "execution_count": null,
   "id": "3219bdad",
   "metadata": {},
   "outputs": [],
   "source": []
  },
  {
   "cell_type": "markdown",
   "id": "2f6d999b",
   "metadata": {},
   "source": [
    "## asyncio"
   ]
  },
  {
   "cell_type": "code",
   "execution_count": null,
   "id": "3eedcb9c",
   "metadata": {},
   "outputs": [],
   "source": [
    "import asyncio\n",
    "import aiohttp\n",
    "\n",
    "async def download_file(url, filename):\n",
    "    async with aiohttp.ClientSession() as session:\n",
    "        async with session.get(url) as response:\n",
    "            with open(filename, 'wb') as f:\n",
    "                f.write(await response.read())\n",
    "\n",
    "async def main():\n",
    "    await asyncio.gather(\n",
    "       download_file('https://example.com/file1.txt', 'file1.txt'),\n",
    "       download_file('https://example.com/file2.txt', 'file2.txt')\n",
    "    )\n",
    "\n",
    "asyncio.run(main())"
   ]
  },
  {
   "cell_type": "markdown",
   "id": "b1b28495",
   "metadata": {},
   "source": [
    "## Создание и выполнение задач"
   ]
  },
  {
   "cell_type": "code",
   "execution_count": null,
   "id": "8d74b2bb",
   "metadata": {},
   "outputs": [],
   "source": [
    "import asyncio\n",
    " \n",
    "async def foo():\n",
    "    print(\"Start foo\")\n",
    "    await asyncio.sleep(1)\n",
    "    print(\"End foo\")\n",
    "\n",
    "async def main():\n",
    "    task = asyncio.create_task(foo())\n",
    "    await task\n",
    "\n",
    "asyncio.run(main())"
   ]
  },
  {
   "cell_type": "markdown",
   "id": "bd952d75",
   "metadata": {},
   "source": [
    "## Работа с несколькими задачами"
   ]
  },
  {
   "cell_type": "code",
   "execution_count": null,
   "id": "bf19f33d",
   "metadata": {},
   "outputs": [],
   "source": [
    "import asyncio\n",
    "\n",
    "async def process_data(data):\n",
    "    await asyncio.sleep(1)\n",
    "    return data * 2\n",
    "\n",
    "async def main():\n",
    "    tasks = [process_data(i) for i in range(10)]\n",
    "    results = await asyncio.gather(*tasks)\n",
    "    print(results)\n",
    "\n",
    "asyncio.run(main())"
   ]
  },
  {
   "attachments": {},
   "cell_type": "markdown",
   "id": "ab7eb053",
   "metadata": {},
   "source": [
    "## Цикл событий\n",
    "\n",
    "- asyncio.get_event_loop(): Возвращает текущий цикл событий или создаёт новый, если текущего нет.\n",
    "- asyncio.new_event_loop(): Создаёт новый цикл событий.\n",
    "- asyncio.set_event_loop(loop): Устанавливает указанный цикл событий как текущий.\n"
   ]
  },
  {
   "cell_type": "code",
   "execution_count": null,
   "id": "ebe5db09",
   "metadata": {},
   "outputs": [],
   "source": [
    "import asyncio\n",
    "\n",
    "loop = asyncio.get_event_loop()\n",
    "print(loop)  \n",
    "new_loop = asyncio.new_event_loop()\n",
    "asyncio.set_event_loop(new_loop)\n",
    "print(asyncio.get_event_loop())  "
   ]
  },
  {
   "cell_type": "markdown",
   "id": "d21ab3f1",
   "metadata": {},
   "source": [
    "## Запуск цикла событий\n",
    "\n",
    "- run_forever(): Запускает цикл событий и продолжает его выполнение до вызова stop().\n",
    "- run_until_complete(future): Запускает цикл событий и завершает его после завершения заданной корутины или будущего объекта."
   ]
  },
  {
   "cell_type": "code",
   "execution_count": null,
   "id": "690e500d",
   "metadata": {},
   "outputs": [],
   "source": [
    "import asyncio\n",
    "\n",
    "async def hello():\n",
    "    print(\"Hello\")\n",
    "    await asyncio.sleep(1)\n",
    "    print(\"World\")\n",
    "\n",
    "loop = asyncio.get_event_loop()\n",
    "loop.run_until_complete(hello())\n",
    "loop.close()"
   ]
  },
  {
   "cell_type": "markdown",
   "id": "7f41a863",
   "metadata": {},
   "source": [
    "## Остановка цикла событий\n",
    "\n",
    "- stop(): Останавливает цикл событий.\n",
    "- is_running(): Возвращает True, если цикл событий запущен."
   ]
  },
  {
   "cell_type": "code",
   "execution_count": null,
   "id": "6a3f8589",
   "metadata": {},
   "outputs": [],
   "source": [
    "import asyncio\n",
    "\n",
    "loop = asyncio.get_event_loop()\n",
    "loop.stop()\n",
    "print(loop.is_running())"
   ]
  },
  {
   "cell_type": "markdown",
   "id": "32dedca7",
   "metadata": {},
   "source": [
    "## call_soon"
   ]
  },
  {
   "cell_type": "code",
   "execution_count": null,
   "id": "a70d9212",
   "metadata": {},
   "outputs": [],
   "source": [
    "import asyncio\n",
    "\n",
    "def my_callback():\n",
    "    print(\"Callback executed\")\n",
    "\n",
    "loop = asyncio.get_event_loop()\n",
    "loop.call_soon(my_callback)\n",
    "loop.run_forever()"
   ]
  },
  {
   "cell_type": "markdown",
   "id": "6307584c",
   "metadata": {},
   "source": [
    "## call_later"
   ]
  },
  {
   "cell_type": "code",
   "execution_count": null,
   "id": "5b5f7eb9",
   "metadata": {},
   "outputs": [],
   "source": [
    "import asyncio\n",
    "\n",
    "def my_callback():\n",
    "    print(\"Callback executed after delay\")\n",
    "\n",
    "loop = asyncio.get_event_loop()\n",
    "loop.call_later(2, my_callback)\n",
    "loop.run_forever()"
   ]
  },
  {
   "cell_type": "markdown",
   "id": "1b32d5b4",
   "metadata": {},
   "source": [
    "## call_at"
   ]
  },
  {
   "cell_type": "code",
   "execution_count": null,
   "id": "34a2ce98",
   "metadata": {},
   "outputs": [],
   "source": [
    "import asyncio\n",
    "import time\n",
    "\n",
    "def my_callback():\n",
    "    print(\"Callback executed at specific time\")\n",
    "\n",
    "loop = asyncio.get_event_loop()\n",
    "when = loop.time() + 2  \n",
    "loop.call_at(when, my_callback)\n",
    "loop.run_forever()"
   ]
  },
  {
   "cell_type": "code",
   "execution_count": null,
   "id": "8ad0b996",
   "metadata": {},
   "outputs": [],
   "source": []
  }
 ],
 "metadata": {
  "kernelspec": {
   "display_name": "Python 3 (ipykernel)",
   "language": "python",
   "name": "python3"
  },
  "language_info": {
   "codemirror_mode": {
    "name": "ipython",
    "version": 3
   },
   "file_extension": ".py",
   "mimetype": "text/x-python",
   "name": "python",
   "nbconvert_exporter": "python",
   "pygments_lexer": "ipython3",
   "version": "3.11.11"
  }
 },
 "nbformat": 4,
 "nbformat_minor": 5
}
