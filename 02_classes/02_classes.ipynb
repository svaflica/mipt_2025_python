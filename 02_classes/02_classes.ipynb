{
 "cells": [
  {
   "cell_type": "markdown",
   "id": "3259897e",
   "metadata": {},
   "source": [
    "# Классы Python"
   ]
  },
  {
   "cell_type": "markdown",
   "id": "10bf4055",
   "metadata": {},
   "source": [
    "![](images/ph1.jpg)"
   ]
  },
  {
   "cell_type": "markdown",
   "id": "feea928d",
   "metadata": {},
   "source": [
    "### Хочется сделать базу кошек, у которых есть имя и возраст, пока что мы можем только так"
   ]
  },
  {
   "cell_type": "code",
   "execution_count": null,
   "id": "69b263d6",
   "metadata": {},
   "outputs": [],
   "source": [
    "def create_cat(name=None, age=0):\n",
    "    return {\n",
    "        \"name\": name,\n",
    "        \"age\": age\n",
    "    }\n",
    "\n",
    "\n",
    "def set_name(cat, name):\n",
    "    if not cat[\"name\"]:\n",
    "        cat[\"name\"] = name\n",
    "        return f\"Теперь кошку зовут {name}\"\n",
    "    return f\"У кошки уже есть имя {cat['name']}\"\n",
    "\n",
    "def add_year(cat):\n",
    "    cat['age'] += 1\n",
    "    return f\"Кошке уже {cat['age']}\"\n",
    "\n",
    "def get_name(cat):\n",
    "    return f\"кошку зовут {cat['name']}\"\n",
    "\n",
    "\n",
    "def get_age(cat):\n",
    "    return f\"Кошке {cat['age']}\"\n",
    "\n",
    "\n",
    "cat_1 = create_cat(name=\"Murka\", age=2)\n",
    "\n",
    "print(set_name(cat_1, \"Boss\"))\n",
    "print(get_age(cat_1))\n",
    "print(add_year(cat_1))\n",
    "print(get_name(cat_1))\n",
    "print(get_age(cat_1))\n",
    "print()\n",
    "\n",
    "cat_2 = create_cat()\n",
    "print(set_name(cat_2, \"Boss\"))\n",
    "print(get_age(cat_2))\n",
    "print(add_year(cat_2))\n",
    "print(get_name(cat_2))\n",
    "print(get_age(cat_2))\n",
    "print()"
   ]
  },
  {
   "cell_type": "markdown",
   "id": "a4eb9401",
   "metadata": {},
   "source": [
    "class название_класса(классы родительские):\n",
    "\n",
    "    атрибуты_класса\n",
    "    \n",
    "    методы_класса"
   ]
  },
  {
   "cell_type": "markdown",
   "id": "c94074b9",
   "metadata": {},
   "source": [
    "### Пустой класс"
   ]
  },
  {
   "cell_type": "code",
   "execution_count": null,
   "id": "723a2a62",
   "metadata": {},
   "outputs": [],
   "source": [
    "class Cat:\n",
    "    pass\n",
    "\n",
    "tom = Cat()      # определение объекта tom\n",
    "bob = Cat()      # определение объекта bob\n",
    "\n",
    "tom"
   ]
  },
  {
   "cell_type": "markdown",
   "id": "b98f873e",
   "metadata": {},
   "source": [
    "### Атрибуты класса"
   ]
  },
  {
   "cell_type": "code",
   "execution_count": null,
   "id": "28e7e399",
   "metadata": {},
   "outputs": [],
   "source": [
    "class Cat:\n",
    "    def __init__(self, name):\n",
    "        self.name = name    # имя\n",
    "        self.age = 1        # возраст\n",
    " \n",
    " \n",
    "tom = Cat(\"Tom\")\n",
    " \n",
    "# обращение к атрибутам\n",
    "# получение значений\n",
    "print(tom.name)     # Tom\n",
    "print(tom.age)      # 1\n",
    "\n",
    "# изменение значения, но так лучше НЕ делать\n",
    "tom.age = 37\n",
    "print(tom.age)      # 37"
   ]
  },
  {
   "cell_type": "code",
   "execution_count": null,
   "id": "37e3bd9d",
   "metadata": {},
   "outputs": [],
   "source": [
    "class Cat:\n",
    "    def __init__(self, name):\n",
    "        self.name = name    # имя\n",
    "        self.age = 1        # возраст\n",
    " \n",
    " \n",
    "tom = Cat(\"Tom\")\n",
    "\n",
    "# добавление атрибута, но так лучше НЕ делать\n",
    "tom.color = \"White\"\n",
    "print(tom.color)"
   ]
  },
  {
   "cell_type": "code",
   "execution_count": null,
   "id": "e0fe93ed",
   "metadata": {},
   "outputs": [],
   "source": [
    "class Cat:\n",
    "    pass\n",
    "#     def __init__(self, name):\n",
    "#         self.name = name    # имя\n",
    "#         self.age = 1        # возраст\n",
    " \n",
    " \n",
    "tom = Cat()\n",
    "\n",
    "# добавление атрибута, но так лучше НЕ делать\n",
    "tom.color = \"White\"\n",
    "print(tom.color)"
   ]
  },
  {
   "cell_type": "markdown",
   "id": "87c45306",
   "metadata": {},
   "source": [
    "### Методы класса"
   ]
  },
  {
   "cell_type": "code",
   "execution_count": null,
   "id": "cdacaf5e",
   "metadata": {},
   "outputs": [],
   "source": [
    "class Cat:\n",
    "    # конструктор\n",
    "    def __init__(self, name=None, age=0):\n",
    "        self.name = name\n",
    "        self.age = age\n",
    "\n",
    "    def set_name(self, name):\n",
    "        if not self.name:\n",
    "            self.name = name\n",
    "            return f\"Теперь кошку зовут {self.name}\"\n",
    "        return f\"У кошки уже есть имя {self.name}\"\n",
    "\n",
    "    def add_year(self):\n",
    "        self.age += 1\n",
    "        return f\"Кошке уже {self.age}\"\n",
    "\n",
    "    def get_name(self):\n",
    "        return f\"кошку зовут {self.name}\"\n",
    "\n",
    "    def get_age(self):\n",
    "        return f\"Кошке {self.age}\"\n",
    "\n",
    "cat_1 = Cat(name=\"Murka\", age=2)\n",
    "\n",
    "print(cat_1.set_name(\"Boss\"))\n",
    "print(cat_1.get_age())\n",
    "print(cat_1.add_year())\n",
    "print(cat_1.get_name())\n",
    "print(cat_1.get_age())\n",
    "print()\n",
    "\n",
    "cat_2 = Cat()\n",
    "print(cat_2.set_name(\"Boss\"))\n",
    "print(cat_2.get_age())\n",
    "print(cat_2.add_year())\n",
    "print(cat_2.get_name())\n",
    "print(cat_2.get_age())\n",
    "print()"
   ]
  },
  {
   "cell_type": "markdown",
   "id": "ec10187b",
   "metadata": {},
   "source": [
    "### Для вызова метода класса из другого метода используется self"
   ]
  },
  {
   "cell_type": "code",
   "execution_count": null,
   "id": "3b158f53",
   "metadata": {},
   "outputs": [],
   "source": [
    "class Cat:\n",
    "    # конструктор\n",
    "    def __init__(self, name=None, age=0, dirty=False):\n",
    "        self.name = name\n",
    "        self.age = age\n",
    "        self.dirty = dirty\n",
    "\n",
    "    def set_name(self, name):\n",
    "        if not self.name:\n",
    "            self.name = name\n",
    "            return f\"Теперь кошку зовут {self.name}\"\n",
    "        return f\"У кошки уже есть имя {self.name}\"\n",
    "\n",
    "    def add_year(self):\n",
    "        self.age += 1\n",
    "        return f\"Кошке уже {self.age}\"\n",
    "\n",
    "    def get_name(self):\n",
    "        return f\"кошку зовут {self.name}\"\n",
    "\n",
    "    def get_age(self):\n",
    "        return f\"Кошке {self.age}\"\n",
    "    \n",
    "    def set_dirty(self, dirty):\n",
    "        self.dirty = dirty\n",
    "        if self.dirty:\n",
    "            return f\"Кошка стала грязной\"\n",
    "        return f\"Кошка стала чистой\"\n",
    "\n",
    "    def swim_in_the_mud(self):\n",
    "        return self.set_dirty(True)\n",
    "        \n",
    "    def clean(self):\n",
    "        return self.set_dirty(False)\n",
    "        \n",
    "cat_1 = Cat(name=\"Murka\", age=2)\n",
    "print(cat_1.swim_in_the_mud())\n",
    "print(cat_1.clean())\n",
    "print()"
   ]
  },
  {
   "cell_type": "markdown",
   "id": "d9691eba",
   "metadata": {},
   "source": [
    "### Магические методы"
   ]
  },
  {
   "cell_type": "code",
   "execution_count": null,
   "id": "63a66830",
   "metadata": {},
   "outputs": [],
   "source": [
    "cat = Cat(name=\"Murka\", age=1)\n",
    "print(cat)\n",
    "print(repr(cat))"
   ]
  },
  {
   "cell_type": "markdown",
   "id": "3fc653f2",
   "metadata": {},
   "source": [
    "### Добавим пару магических методов"
   ]
  },
  {
   "cell_type": "code",
   "execution_count": null,
   "id": "65a57376",
   "metadata": {},
   "outputs": [],
   "source": [
    "class Cat:\n",
    "    # конструктор\n",
    "    def __init__(self, name=None, age=0):\n",
    "        self.name = name\n",
    "        self.age = age\n",
    "\n",
    "    def set_name(self, name):\n",
    "        if not self.name:\n",
    "            self.name = name\n",
    "            return f\"Теперь кошку зовут {self.name}\"\n",
    "        return f\"У кошки уже есть имя {self.name}\"\n",
    "\n",
    "    def add_year(self):\n",
    "        self.age += 1\n",
    "        return f\"Кошке уже {self.age}\"\n",
    "\n",
    "    def get_name(self):\n",
    "        return f\"кошку зовут {self.name}\"\n",
    "\n",
    "    def get_age(self):\n",
    "        return f\"Кошке {self.age}\"\n",
    "    \n",
    "    def __str__(self):\n",
    "        return f\"Кошка {self.name}, возраст {self.age}\"\n",
    "    \n",
    "    # Представление объекта в формате инициализации\n",
    "    def __repr__(self):\n",
    "        return f\"Cat({self.name}, {self.age})\"\n",
    "    \n",
    "    # Математические методы (их больше, здесь приведены несколько)\n",
    "    \n",
    "    def __add__(self, other):\n",
    "        new_cat = Cat(self.name + '+' + other.name,\n",
    "                      self.age + other.age)\n",
    "        return new_cat\n",
    "    \n",
    "    def __sub__(self, other):\n",
    "        return Cat(self.name + '-' + other.name,\n",
    "                   self.age - other.age)\n",
    "    \n",
    "    def __mul__(self, other):\n",
    "        return Cat(self.name + '*' + other.name,\n",
    "                   self.age * other.age)\n",
    "    \n",
    "    # Методы сравнения\n",
    "    def __lt__(self, other):\n",
    "        return self.age < other.age\n",
    "    \n",
    "    def __le__(self, other):\n",
    "        return self.age <= other.age\n",
    "\n",
    "    def __eq__(self, other):\n",
    "        return self.age == other.age\n",
    "    \n",
    "    def __ne__(self, other):\n",
    "        return self.age != other.age\n",
    "    \n",
    "    def __gt__(self, other):\n",
    "        return self.age > other.age\n",
    "    \n",
    "    def __ge__(self, other):\n",
    "        return self.age >= other.age\n",
    "    \n",
    "    # Для вызова объекта в качестве функции с аргументами\n",
    "    def __call__(self):\n",
    "        return \"Мяу\"\n",
    "    \n",
    "    # Работа с объектом как с коллекцией (+ есть много других)\n",
    "    def __len__(self):\n",
    "        return self.age\n",
    "    \n",
    "    "
   ]
  },
  {
   "cell_type": "code",
   "execution_count": null,
   "id": "9c0501e7",
   "metadata": {},
   "outputs": [],
   "source": [
    "cat = Cat(name=\"Murka\", age=1)\n",
    "print(cat)"
   ]
  },
  {
   "cell_type": "markdown",
   "id": "23a0284b",
   "metadata": {},
   "source": [
    "### Метод __repr__ вызывается стандартной функцией repr и возвращает строку, которая является представлением объекта в формате инициализации. Этот метод может быть также полезен, если необходимо вывести информацию об объектах, когда они являются элементами коллекции."
   ]
  },
  {
   "cell_type": "code",
   "execution_count": null,
   "id": "0999573a",
   "metadata": {},
   "outputs": [],
   "source": [
    "print(repr(cat))"
   ]
  },
  {
   "cell_type": "markdown",
   "id": "ed9482b2",
   "metadata": {},
   "source": [
    "### Поглощение кошки2 кошкой и другие операции"
   ]
  },
  {
   "cell_type": "code",
   "execution_count": null,
   "id": "6ee9f250",
   "metadata": {},
   "outputs": [],
   "source": [
    "cat2 = Cat(name=\"Murka2\", age=2)\n",
    "print(cat + cat2)"
   ]
  },
  {
   "cell_type": "code",
   "execution_count": null,
   "id": "9dc33f3d",
   "metadata": {},
   "outputs": [],
   "source": [
    "print(cat - cat2)"
   ]
  },
  {
   "cell_type": "code",
   "execution_count": null,
   "id": "823cde38",
   "metadata": {},
   "outputs": [],
   "source": [
    "print(cat * cat2)"
   ]
  },
  {
   "cell_type": "code",
   "execution_count": null,
   "id": "cb94cc17",
   "metadata": {},
   "outputs": [],
   "source": [
    "print(cat > cat2)"
   ]
  },
  {
   "cell_type": "code",
   "execution_count": null,
   "id": "67152b34",
   "metadata": {},
   "outputs": [],
   "source": [
    "print(cat >= cat2)"
   ]
  },
  {
   "cell_type": "code",
   "execution_count": null,
   "id": "fbac195c",
   "metadata": {},
   "outputs": [],
   "source": [
    "print(cat < cat2)"
   ]
  },
  {
   "cell_type": "code",
   "execution_count": null,
   "id": "558237b4",
   "metadata": {},
   "outputs": [],
   "source": [
    "print(cat <= cat2)"
   ]
  },
  {
   "cell_type": "code",
   "execution_count": null,
   "id": "94dd1912",
   "metadata": {},
   "outputs": [],
   "source": [
    "cat == cat2"
   ]
  },
  {
   "cell_type": "code",
   "execution_count": null,
   "id": "8d4ea58f",
   "metadata": {},
   "outputs": [],
   "source": [
    "cat != cat2"
   ]
  },
  {
   "cell_type": "code",
   "execution_count": null,
   "id": "fb4d7dca",
   "metadata": {},
   "outputs": [],
   "source": [
    "cat()"
   ]
  },
  {
   "cell_type": "code",
   "execution_count": null,
   "id": "e34a1880",
   "metadata": {},
   "outputs": [],
   "source": [
    "len(cat)"
   ]
  },
  {
   "cell_type": "markdown",
   "id": "55ebec93",
   "metadata": {},
   "source": [
    "### Классы-декораторы"
   ]
  },
  {
   "cell_type": "code",
   "execution_count": null,
   "id": "be11c133",
   "metadata": {},
   "outputs": [],
   "source": [
    "class MyDecorator:\n",
    "    def __init__(self, function):\n",
    "        self.function = function\n",
    "        self.counter = 0\n",
    "    \n",
    "    def __call__(self, *args, **kwargs):\n",
    "        self.function(*args, **kwargs)\n",
    "        self.counter+=1\n",
    "        print(f\"Called {self.counter} times\")\n",
    "\n",
    "\n",
    "@MyDecorator\n",
    "def some_function():\n",
    "    return 42\n",
    "\n",
    "\n",
    "some_function()\n",
    "some_function()\n",
    "some_function()"
   ]
  },
  {
   "cell_type": "markdown",
   "id": "af3e6df6",
   "metadata": {},
   "source": [
    "### Если в поле класса-декоратора нет функции"
   ]
  },
  {
   "cell_type": "code",
   "execution_count": null,
   "id": "3bcb5b85",
   "metadata": {},
   "outputs": [],
   "source": [
    "class Repeater:\n",
    "    def __init__(self, n):\n",
    "        self.n = n\n",
    "\n",
    "    def __call__(self, f):\n",
    "        def wrapper(*args, **kwargs):\n",
    "            for _ in range(self.n):\n",
    "                f(*args, **kwargs)\n",
    "        return wrapper\n",
    "    \n",
    "@Repeater(3)\n",
    "def foo():\n",
    "    print('foo')\n",
    "foo()"
   ]
  },
  {
   "cell_type": "markdown",
   "id": "9afeae30",
   "metadata": {},
   "source": [
    "### Метод декорирует целый класс"
   ]
  },
  {
   "cell_type": "code",
   "execution_count": null,
   "id": "3686fdc0",
   "metadata": {},
   "outputs": [],
   "source": [
    "import time\n",
    "\n",
    "# это вспомогательный декоратор будет декорировать каждый метод класса, см. ниже\n",
    "def timeit(method):\n",
    "    def timed(*args, **kw):\n",
    "        ts = time.time()\n",
    "        result = method(*args, **kw)\n",
    "        te = time.time()\n",
    "        delta = (te - ts) * 1000\n",
    "        print(f'{method.__name__} выполнялся {delta:2.2f} ms')\n",
    "        return result\n",
    "    return timed\n",
    "\n",
    "def timeit_all_methods(cls):\n",
    "    class NewCls:\n",
    "        def __init__(self, *args, **kwargs):\n",
    "            # проксируем полностью создание класса\n",
    "            # как создали этот NewCls, также создадим и декорируемый класс\n",
    "            self._obj = cls(*args, **kwargs)\n",
    "            \n",
    "        def __getattribute__(self, s):\n",
    "            try:\n",
    "                x = super().__getattribute__(s)\n",
    "            except AttributeError:\n",
    "                pass\n",
    "            else:\n",
    "                return x\n",
    "            attr = self._obj.__getattribute__(s)\n",
    "            if isinstance(attr, type(self.__init__)):\n",
    "                return timeit(attr)\n",
    "            else:\n",
    "                return attr\n",
    "    return NewCls\n",
    "\n",
    "@timeit_all_methods\n",
    "class Foo:\n",
    "    def a(self):\n",
    "        print(\"метод a начался\")\n",
    "        time.sleep(0.666)\n",
    "        print(\"метод a кончился\")\n",
    "f = Foo()\n",
    "f.a()"
   ]
  },
  {
   "cell_type": "markdown",
   "id": "20168f8c",
   "metadata": {},
   "source": [
    "### Общеизвестные декораторы для методов класса"
   ]
  },
  {
   "cell_type": "code",
   "execution_count": null,
   "id": "90f64791",
   "metadata": {},
   "outputs": [],
   "source": [
    "class MyClass:\n",
    "    def __init__(self, x):\n",
    "        self.x = x\n",
    "    \n",
    "    @property\n",
    "    def x_doubled(self):\n",
    "        return self.x * 2\n",
    "    \n",
    "    @x_doubled.setter\n",
    "    def x_doubled(self, x_doubled):\n",
    "        self.x = x_doubled * 2\n",
    "\n",
    "my_object = MyClass(5) \n",
    "print(my_object.x_doubled)  #  10  \n",
    "print(my_object.x)          #  5  \n",
    "my_object.x_doubled = 100   #    \n",
    "print(my_object.x_doubled)  #  100 \n",
    "print(my_object.x)          #  50 "
   ]
  },
  {
   "cell_type": "markdown",
   "id": "206abd5e",
   "metadata": {},
   "source": [
    "### Декоратор для создания статического метода"
   ]
  },
  {
   "cell_type": "code",
   "execution_count": null,
   "id": "8e3cfe2e",
   "metadata": {},
   "outputs": [],
   "source": [
    "class C:\n",
    "    @staticmethod\n",
    "    def the_static_method(arg1, arg2):\n",
    "        return 42\n",
    "    \n",
    "    def f(self):\n",
    "        pass\n",
    "\n",
    "print(C.the_static_method(1, 2))\n",
    "print(C().the_static_method(1, 2))\n",
    "print(C.f())"
   ]
  },
  {
   "cell_type": "markdown",
   "id": "1b0cb73e",
   "metadata": {},
   "source": [
    "### Пример известного декоратора класса"
   ]
  },
  {
   "cell_type": "code",
   "execution_count": null,
   "id": "57e77789",
   "metadata": {},
   "outputs": [],
   "source": [
    "from dataclasses import dataclass\n",
    "\n",
    "@dataclass\n",
    "class InventoryItem:\n",
    "    name: str\n",
    "    unit_price: float\n",
    "    quantity: int = 0\n",
    "\n",
    "    def total_cost(self) -> float:\n",
    "        return self.unit_price * self.quantity\n",
    "\n",
    "\n",
    "item = InventoryItem(name=\"\", unit_price=12, quantity=100)\n",
    "print(item.total_cost())"
   ]
  },
  {
   "cell_type": "code",
   "execution_count": null,
   "id": "30a86edd",
   "metadata": {},
   "outputs": [],
   "source": [
    "item = InventoryItem(name=\"\", unit_price=12)"
   ]
  },
  {
   "cell_type": "code",
   "execution_count": null,
   "id": "58c0afa7",
   "metadata": {},
   "outputs": [],
   "source": [
    "item = InventoryItem(name=\"\")"
   ]
  },
  {
   "cell_type": "markdown",
   "id": "2301efca",
   "metadata": {},
   "source": [
    "# Ключевыми особенностями ООП являются понятия:\n",
    "\n",
    "* абстракция; \n",
    "\n",
    "* инкапсуляция; \n",
    "\n",
    "* наследование; \n",
    "\n",
    "* полиморфизм."
   ]
  },
  {
   "cell_type": "markdown",
   "id": "a28abe23",
   "metadata": {},
   "source": [
    "## Инкапсуляция"
   ]
  },
  {
   "cell_type": "markdown",
   "id": "66d95b16",
   "metadata": {},
   "source": [
    "**Инкапсуляция** – это свойство системы, позволяющее объединить данные и методы, работающие с ними, в классе и скрыть детали реализации от пользователя.\n"
   ]
  },
  {
   "cell_type": "code",
   "execution_count": 1,
   "id": "18885f1a",
   "metadata": {},
   "outputs": [],
   "source": [
    "# protected\n",
    "\n",
    "class Cat:\n",
    "    def __init__(self, name='Jerry'):\n",
    "        self._name = name\n",
    "    \n",
    "    @property\n",
    "    def name(self):\n",
    "         return self._name\n",
    "        \n",
    "    def _protected_method(self):\n",
    "        print('You are in protected method')\n",
    "        \n",
    "    def use_protected_method(self):\n",
    "        self._protected_method()"
   ]
  },
  {
   "cell_type": "code",
   "execution_count": 2,
   "id": "c8aa30e1",
   "metadata": {},
   "outputs": [
    {
     "name": "stdout",
     "output_type": "stream",
     "text": [
      "Jerry\n",
      "Jerry\n"
     ]
    }
   ],
   "source": [
    "c = Cat()\n",
    "print(c.name)\n",
    "print(c._name)"
   ]
  },
  {
   "cell_type": "code",
   "execution_count": 3,
   "id": "e8e096dc",
   "metadata": {},
   "outputs": [
    {
     "name": "stdout",
     "output_type": "stream",
     "text": [
      "You are in protected method\n",
      "You are in protected method\n"
     ]
    }
   ],
   "source": [
    "c._protected_method()\n",
    "c.use_protected_method()"
   ]
  },
  {
   "cell_type": "code",
   "execution_count": 4,
   "id": "ad5b0da2",
   "metadata": {},
   "outputs": [],
   "source": [
    "# private\n",
    "\n",
    "class Cat:\n",
    "    def __init__(self, name='Jerry'):\n",
    "        self.__name = name\n",
    "\n",
    "    @property\n",
    "    def name(self):\n",
    "        try:\n",
    "            return self.__name\n",
    "        except:\n",
    "            print(\"I can't destinate this attribute\")\n",
    "    \n",
    "    @name.setter\n",
    "    def name(self, value):\n",
    "        self.__name = value\n",
    "        \n",
    "    @name.deleter\n",
    "    def name(self):\n",
    "        print('Attribute name was deleted')\n",
    "        del self.__name\n",
    "        \n",
    "    def __private_method(self):\n",
    "        print('You are in private method')\n",
    "        \n",
    "    def use_private_method(self):\n",
    "        self.__private_method()"
   ]
  },
  {
   "cell_type": "code",
   "execution_count": 5,
   "id": "d3ed1926",
   "metadata": {},
   "outputs": [
    {
     "ename": "AttributeError",
     "evalue": "'Cat' object has no attribute '__name'",
     "output_type": "error",
     "traceback": [
      "\u001b[0;31m---------------------------------------------------------------------------\u001b[0m",
      "\u001b[0;31mAttributeError\u001b[0m                            Traceback (most recent call last)",
      "Cell \u001b[0;32mIn[5], line 2\u001b[0m\n\u001b[1;32m      1\u001b[0m c \u001b[38;5;241m=\u001b[39m Cat()\n\u001b[0;32m----> 2\u001b[0m \u001b[43mc\u001b[49m\u001b[38;5;241;43m.\u001b[39;49m\u001b[43m__name\u001b[49m\n",
      "\u001b[0;31mAttributeError\u001b[0m: 'Cat' object has no attribute '__name'"
     ]
    }
   ],
   "source": [
    "c = Cat()\n",
    "c.__name"
   ]
  },
  {
   "cell_type": "code",
   "execution_count": 6,
   "id": "2497a47a",
   "metadata": {},
   "outputs": [
    {
     "name": "stdout",
     "output_type": "stream",
     "text": [
      "Jerry\n"
     ]
    }
   ],
   "source": [
    "print(c.name)"
   ]
  },
  {
   "cell_type": "code",
   "execution_count": 7,
   "id": "497254d4",
   "metadata": {},
   "outputs": [
    {
     "name": "stdout",
     "output_type": "stream",
     "text": [
      "Ann\n"
     ]
    }
   ],
   "source": [
    "c.name = 'Ann'\n",
    "print(c.name)"
   ]
  },
  {
   "cell_type": "code",
   "execution_count": 8,
   "id": "e781e008",
   "metadata": {},
   "outputs": [
    {
     "name": "stdout",
     "output_type": "stream",
     "text": [
      "Attribute name was deleted\n",
      "I can't destinate this attribute\n",
      "None\n"
     ]
    }
   ],
   "source": [
    "del c.name\n",
    "print(c.name)"
   ]
  },
  {
   "cell_type": "code",
   "execution_count": 9,
   "id": "ea1aeb0a",
   "metadata": {},
   "outputs": [
    {
     "ename": "AttributeError",
     "evalue": "'Cat' object has no attribute '__private_method'",
     "output_type": "error",
     "traceback": [
      "\u001b[0;31m---------------------------------------------------------------------------\u001b[0m",
      "\u001b[0;31mAttributeError\u001b[0m                            Traceback (most recent call last)",
      "Cell \u001b[0;32mIn[9], line 1\u001b[0m\n\u001b[0;32m----> 1\u001b[0m \u001b[43mc\u001b[49m\u001b[38;5;241;43m.\u001b[39;49m\u001b[43m__private_method\u001b[49m()\n",
      "\u001b[0;31mAttributeError\u001b[0m: 'Cat' object has no attribute '__private_method'"
     ]
    }
   ],
   "source": [
    "c.__private_method()"
   ]
  },
  {
   "cell_type": "code",
   "execution_count": 10,
   "id": "4239a33d",
   "metadata": {},
   "outputs": [
    {
     "name": "stdout",
     "output_type": "stream",
     "text": [
      "You are in private method\n"
     ]
    }
   ],
   "source": [
    "c.use_private_method()"
   ]
  },
  {
   "cell_type": "markdown",
   "id": "d25898a4",
   "metadata": {},
   "source": [
    "## Наследование"
   ]
  },
  {
   "cell_type": "code",
   "execution_count": 11,
   "id": "a2f2c4b2",
   "metadata": {},
   "outputs": [],
   "source": [
    "class Pencil:\n",
    "\n",
    "    def __init__(self, color=\"серый\"):\n",
    "        self.color = color\n",
    "\n",
    "    def draw_picture(self):\n",
    "        return f\"Нарисован рисунок цветом '{self.color}'.\"\n",
    "\n",
    "\n",
    "class Pen(Pencil):\n",
    "\n",
    "    def sign_document(self):\n",
    "        if self.color not in (\"синий\", \"чёрный\", \"фиолетовый\"):\n",
    "            return f\"Ручкой цвета '{self.color}' нельзя подписать документ.\"\n",
    "        return f\"Подписан документ.\""
   ]
  },
  {
   "cell_type": "code",
   "execution_count": 12,
   "id": "bb86d4da",
   "metadata": {},
   "outputs": [
    {
     "name": "stdout",
     "output_type": "stream",
     "text": [
      "Нарисован рисунок цветом 'синий'.\n",
      "Подписан документ.\n"
     ]
    }
   ],
   "source": [
    "blue_pen = Pen(color=\"синий\")\n",
    "print(blue_pen.draw_picture())\n",
    "print(blue_pen.sign_document())"
   ]
  },
  {
   "cell_type": "code",
   "execution_count": 13,
   "id": "72794dcf",
   "metadata": {},
   "outputs": [
    {
     "name": "stdout",
     "output_type": "stream",
     "text": [
      "Нарисован рисунок цветом 'красный'.\n",
      "Ручкой цвета 'красный' нельзя подписать документ.\n"
     ]
    }
   ],
   "source": [
    "red_pen = Pen(color=\"красный\")\n",
    "print(red_pen.draw_picture())\n",
    "print(red_pen.sign_document())"
   ]
  },
  {
   "cell_type": "markdown",
   "id": "ff7c5289",
   "metadata": {},
   "source": [
    "### Расширение метода"
   ]
  },
  {
   "cell_type": "code",
   "execution_count": 14,
   "id": "4f956d71",
   "metadata": {},
   "outputs": [],
   "source": [
    "class Pencil:\n",
    "\n",
    "    def __init__(self, color=\"серый\"):\n",
    "        self.color = color\n",
    "\n",
    "    def draw_picture(self):\n",
    "        return f\"Нарисован рисунок цветом '{self.color}'.\"\n",
    "\n",
    "\n",
    "class Pen(Pencil):\n",
    "\n",
    "    def __init__(self, color, pen_type):\n",
    "        super().__init__(color=color)\n",
    "        self.pen_type = pen_type\n",
    "\n",
    "    def sign_document(self):\n",
    "        if self.color not in (\"синий\", \"чёрный\", \"фиолетовый\"):\n",
    "            return f\"Ручкой цвета '{self.color}' нельзя подписать документ.\"\n",
    "        elif self.pen_type == \"гелевая\":\n",
    "            return f\"Ручкой типа '{self.pen_type}' нельзя подписать документ.\"\n",
    "        return f\"Подписан документ.\""
   ]
  },
  {
   "cell_type": "code",
   "execution_count": 15,
   "id": "03efdb39",
   "metadata": {},
   "outputs": [
    {
     "name": "stdout",
     "output_type": "stream",
     "text": [
      "Нарисован рисунок цветом 'синий'.\n",
      "Подписан документ.\n"
     ]
    }
   ],
   "source": [
    "blue_ball_pen = Pen(color=\"синий\", pen_type=\"шариковая\")\n",
    "print(blue_ball_pen.draw_picture())\n",
    "print(blue_ball_pen.sign_document())"
   ]
  },
  {
   "cell_type": "code",
   "execution_count": 16,
   "id": "3e4ce214",
   "metadata": {},
   "outputs": [
    {
     "name": "stdout",
     "output_type": "stream",
     "text": [
      "Нарисован рисунок цветом 'синий'.\n",
      "Ручкой типа 'гелевая' нельзя подписать документ.\n"
     ]
    }
   ],
   "source": [
    "blue_gel_pen = Pen(color=\"синий\", pen_type=\"гелевая\")\n",
    "print(blue_gel_pen.draw_picture())\n",
    "print(blue_gel_pen.sign_document())"
   ]
  },
  {
   "cell_type": "markdown",
   "id": "163e4c56",
   "metadata": {},
   "source": [
    "### Переопределение метода"
   ]
  },
  {
   "cell_type": "code",
   "execution_count": 17,
   "id": "280da0c5",
   "metadata": {},
   "outputs": [],
   "source": [
    "class Pencil:\n",
    "\n",
    "    def __init__(self, color=\"серый\"):\n",
    "        self.color = color\n",
    "\n",
    "    def draw_picture(self):\n",
    "        return f\"Нарисован рисунок цветом '{self.color}'.\"\n",
    "    \n",
    "    def get_info(self):\n",
    "        return f'Цвет {self.color}'\n",
    "\n",
    "\n",
    "class Pen(Pencil):\n",
    "\n",
    "    def __init__(self, color, pen_type):\n",
    "        super().__init__(color=color)\n",
    "        self.pen_type = pen_type\n",
    "\n",
    "    def sign_document(self):\n",
    "        if self.color not in (\"синий\", \"чёрный\", \"фиолетовый\"):\n",
    "            return f\"Ручкой цвета '{self.color}' нельзя подписать документ.\"\n",
    "        elif self.pen_type == \"гелевая\":\n",
    "            return f\"Ручкой типа '{self.pen_type}' нельзя подписать документ.\"\n",
    "        return f\"Подписан документ.\"\n",
    "\n",
    "    def draw_picture(self):\n",
    "        return f\"Нарисован рисунок ручкой типа '{self.pen_type}', цветом '{self.color}'.\"\n",
    "    \n",
    "    def get_info(self):\n",
    "        return f'Цвет {self.color}, Тип {self.pen_type}'"
   ]
  },
  {
   "cell_type": "code",
   "execution_count": 18,
   "id": "b034708b",
   "metadata": {},
   "outputs": [
    {
     "name": "stdout",
     "output_type": "stream",
     "text": [
      "Цвет синий, Тип шариковая\n"
     ]
    }
   ],
   "source": [
    "blue_ball_pen = Pen(color=\"синий\", pen_type=\"шариковая\")\n",
    "print(blue_ball_pen.get_info())"
   ]
  },
  {
   "cell_type": "markdown",
   "id": "9af54a75",
   "metadata": {},
   "source": [
    "### Множественное наследование"
   ]
  },
  {
   "cell_type": "code",
   "execution_count": 19,
   "id": "6436c743",
   "metadata": {},
   "outputs": [
    {
     "name": "stdout",
     "output_type": "stream",
     "text": [
      "Добрый день, Пользователь!\n",
      "Привет, Пользователь!\n"
     ]
    }
   ],
   "source": [
    "class GreetingFormal:\n",
    "\n",
    "    def __init__(self):\n",
    "        self.formal_greeting = \"Добрый день,\"\n",
    "\n",
    "    def greet_formal(self, name):\n",
    "        return f\"{self.formal_greeting} {name}!\"\n",
    "\n",
    "\n",
    "class GreetingInformal:\n",
    "\n",
    "    def __init__(self):\n",
    "        self.informal_greeting = \"Привет,\"\n",
    "\n",
    "    def greet_informal(self, name):\n",
    "        return f\"{self.informal_greeting} {name}!\"\n",
    "\n",
    "\n",
    "class GreetingMix(GreetingFormal, GreetingInformal):\n",
    "\n",
    "    def __init__(self):\n",
    "        GreetingFormal.__init__(self)\n",
    "        GreetingInformal.__init__(self)\n",
    "\n",
    "\n",
    "mixed_greeting = GreetingMix()\n",
    "print(mixed_greeting.greet_formal(\"Пользователь\"))\n",
    "print(mixed_greeting.greet_informal(\"Пользователь\"))"
   ]
  },
  {
   "cell_type": "code",
   "execution_count": 20,
   "id": "44e5fb9e",
   "metadata": {},
   "outputs": [
    {
     "name": "stdout",
     "output_type": "stream",
     "text": [
      "True\n",
      "True\n",
      "True\n"
     ]
    }
   ],
   "source": [
    "print(isinstance(mixed_greeting, GreetingFormal))\n",
    "print(isinstance(mixed_greeting, GreetingInformal))\n",
    "print(isinstance(mixed_greeting, GreetingMix))"
   ]
  },
  {
   "cell_type": "code",
   "execution_count": 21,
   "id": "9a48779c",
   "metadata": {},
   "outputs": [
    {
     "data": {
      "text/plain": [
       "__main__.GreetingMix"
      ]
     },
     "execution_count": 21,
     "metadata": {},
     "output_type": "execute_result"
    }
   ],
   "source": [
    "type(mixed_greeting)"
   ]
  },
  {
   "cell_type": "markdown",
   "id": "aeb4aa1a",
   "metadata": {},
   "source": [
    "### И еще немного про множественное наследование"
   ]
  },
  {
   "cell_type": "code",
   "execution_count": 22,
   "id": "530412cf",
   "metadata": {},
   "outputs": [
    {
     "name": "stdout",
     "output_type": "stream",
     "text": [
      "B\n"
     ]
    }
   ],
   "source": [
    "class A:\n",
    "    def hi(self):\n",
    "        print(\"A\")\n",
    "\n",
    "class B(A):\n",
    "    def hi(self):\n",
    "        print(\"B\")\n",
    "\n",
    "class C(A):\n",
    "    def hi(self):\n",
    "        print(\"C\")\n",
    "\n",
    "class D(B, C):\n",
    "    pass\n",
    " \n",
    "d = D()\n",
    "d.hi()"
   ]
  },
  {
   "cell_type": "code",
   "execution_count": null,
   "id": "023d96ab",
   "metadata": {},
   "outputs": [],
   "source": [
    "#     A\n",
    "# B       C"
   ]
  },
  {
   "cell_type": "code",
   "execution_count": 23,
   "id": "ec317d2f",
   "metadata": {},
   "outputs": [
    {
     "data": {
      "text/plain": [
       "[__main__.D, __main__.B, __main__.C, __main__.A, object]"
      ]
     },
     "execution_count": 23,
     "metadata": {},
     "output_type": "execute_result"
    }
   ],
   "source": [
    "D.mro()"
   ]
  },
  {
   "cell_type": "code",
   "execution_count": 24,
   "id": "6ef79c41",
   "metadata": {},
   "outputs": [
    {
     "name": "stdout",
     "output_type": "stream",
     "text": [
      "C\n"
     ]
    }
   ],
   "source": [
    "class D(B, C):\n",
    "    def call_hi(self):\n",
    "        C.hi(self)\n",
    "\n",
    "d = D()\n",
    "d.call_hi()"
   ]
  },
  {
   "cell_type": "markdown",
   "id": "39fb2c97",
   "metadata": {},
   "source": [
    "### Несколько множественных наследований"
   ]
  },
  {
   "cell_type": "code",
   "execution_count": 25,
   "id": "89823510",
   "metadata": {},
   "outputs": [
    {
     "name": "stdout",
     "output_type": "stream",
     "text": [
      "[<class '__main__.M'>, <class '__main__.B'>, <class '__main__.A'>, <class '__main__.X'>, <class '__main__.Y'>, <class '__main__.Z'>, <class 'object'>]\n"
     ]
    }
   ],
   "source": [
    "# Как работает MRO\n",
    "class X:\n",
    "    pass\n",
    "\n",
    "class Y:\n",
    "    pass\n",
    "\n",
    "class Z:\n",
    "    pass\n",
    "\n",
    "class A(X, Y):\n",
    "    pass\n",
    "\n",
    "class B(Y, Z):\n",
    "    pass\n",
    "\n",
    "class M(B, A, Z):\n",
    "    pass\n",
    "\n",
    "print(M.mro())"
   ]
  },
  {
   "cell_type": "markdown",
   "id": "e171328d",
   "metadata": {},
   "source": [
    "### Граф наследований\n",
    "\n",
    "![](relations.png)"
   ]
  },
  {
   "cell_type": "markdown",
   "id": "131e3b95",
   "metadata": {},
   "source": [
    "### Миксины"
   ]
  },
  {
   "cell_type": "code",
   "execution_count": 26,
   "id": "c5925eaa",
   "metadata": {},
   "outputs": [
    {
     "name": "stdout",
     "output_type": "stream",
     "text": [
      "Riding a car\n",
      "Now playing: Queen - Bohemian Rhapsody \n"
     ]
    }
   ],
   "source": [
    "class Car:\n",
    "    def ride(self):\n",
    "        print(\"Riding a car\")\n",
    " \n",
    "    def play_music(self, song):\n",
    "        print(\"Now playing: {} \".format(song))\n",
    "\n",
    "c = Car()\n",
    "c.ride()\n",
    "c.play_music(\"Queen - Bohemian Rhapsody\")"
   ]
  },
  {
   "cell_type": "code",
   "execution_count": 27,
   "id": "dc1f4f7f",
   "metadata": {},
   "outputs": [],
   "source": [
    "class MusicPlayerMixin:\n",
    "    def play_music(self, song):\n",
    "        print(\"Now playing: {}\".format(song))"
   ]
  },
  {
   "cell_type": "code",
   "execution_count": 28,
   "id": "994f51c2",
   "metadata": {},
   "outputs": [],
   "source": [
    "class Boat(MusicPlayerMixin):\n",
    "    pass\n",
    "\n",
    "class Smartphone(MusicPlayerMixin):\n",
    "    pass\n",
    " \n",
    "class Radio(MusicPlayerMixin):\n",
    "    pass\n",
    " \n",
    "\n",
    "class Amphibian(Car, Boat, MusicPlayerMixin):\n",
    "    pass"
   ]
  },
  {
   "cell_type": "code",
   "execution_count": 29,
   "id": "de2ae0f6",
   "metadata": {},
   "outputs": [
    {
     "name": "stdout",
     "output_type": "stream",
     "text": [
      "Now playing: Music \n"
     ]
    }
   ],
   "source": [
    "a = Amphibian()\n",
    "a.play_music('Music')"
   ]
  },
  {
   "cell_type": "markdown",
   "id": "8545f92c",
   "metadata": {},
   "source": [
    "## Полиморфизм"
   ]
  },
  {
   "cell_type": "markdown",
   "id": "51f8df22",
   "metadata": {},
   "source": [
    "**Полиморфизм** — это возможность обработки разных типов данных, т. е. принадлежащих к разным классам, с помощью \"одной и той же\" функции, или метода."
   ]
  },
  {
   "cell_type": "code",
   "execution_count": 32,
   "id": "f98726ab",
   "metadata": {},
   "outputs": [],
   "source": [
    "# magic methods\n",
    "\n",
    "class Animal:\n",
    "    def __init__(self, v):\n",
    "        print('Init op')\n",
    "        self.value = v\n",
    "        \n",
    "    def __new__(cls, *args, **kwargs):\n",
    "        print('New op')\n",
    "        instance = super().__new__(cls)\n",
    "        return instance\n",
    "    \n",
    "    def __del__(self):\n",
    "        print('Delete op')\n",
    "        self.value = 0\n",
    "    \n",
    "    def __pos__(self):\n",
    "        # +obj\n",
    "        print('Pos op')\n",
    "    \n",
    "    def __neg__(self):\n",
    "        # -obj\n",
    "        print('Neg op')\n",
    "        self.value *= -1\n",
    "        \n",
    "    def __eq__(self, obj):\n",
    "        print('Eq op')\n",
    "        return self.value == obj"
   ]
  },
  {
   "cell_type": "code",
   "execution_count": 33,
   "id": "47b3925a",
   "metadata": {},
   "outputs": [],
   "source": [
    "# a = Animal()\n",
    "# b = Animal()\n",
    "# a + b\n",
    "# a - b\n",
    "# a * b"
   ]
  },
  {
   "cell_type": "code",
   "execution_count": 34,
   "id": "e1a1bf4b",
   "metadata": {},
   "outputs": [
    {
     "name": "stdout",
     "output_type": "stream",
     "text": [
      "New op\n",
      "Init op\n",
      "\n",
      "New op\n",
      "Init op\n",
      "\n",
      "Pos op\n",
      "\n",
      "6\n",
      "Neg op\n",
      "-6\n",
      "\n",
      "Eq op\n",
      "Eq op\n",
      "False\n",
      "\n",
      "Eq op\n",
      "True\n",
      "\n",
      "Delete op\n",
      "\n",
      "Delete op\n"
     ]
    }
   ],
   "source": [
    "a = Animal(5)\n",
    "print()\n",
    "\n",
    "b = Animal(6)\n",
    "print()\n",
    "\n",
    "+a\n",
    "print()\n",
    "\n",
    "print(b.value)\n",
    "-b\n",
    "print(b.value)\n",
    "print()\n",
    "\n",
    "print(a == b)\n",
    "print()\n",
    "\n",
    "print(a == 5)\n",
    "print()\n",
    "\n",
    "del a\n",
    "print()\n",
    "\n",
    "del b"
   ]
  },
  {
   "cell_type": "code",
   "execution_count": 35,
   "id": "97efae59",
   "metadata": {},
   "outputs": [
    {
     "name": "stdout",
     "output_type": "stream",
     "text": [
      "I don't know how\n",
      "Meow\n",
      "Wof\n",
      "Give me 5 $\n"
     ]
    }
   ],
   "source": [
    "class Animal:\n",
    "    def say(self):\n",
    "        print(\"I don't know how\")\n",
    "    \n",
    "class Cat(Animal):\n",
    "    def say(self):\n",
    "        print('Meow')\n",
    "        \n",
    "class Dog(Animal):\n",
    "    def say(self):\n",
    "        print('Wof')\n",
    "        \n",
    "class Human(Animal):\n",
    "    def say(self, arg):\n",
    "        print('Give me', arg, '$')\n",
    "        \n",
    "c = Cat()\n",
    "d = Dog()\n",
    "a = Animal()\n",
    "h = Human()\n",
    "\n",
    "a.say()\n",
    "c.say()\n",
    "d.say()\n",
    "# h.say() #Error\n",
    "h.say(5)"
   ]
  },
  {
   "cell_type": "markdown",
   "id": "c1c2aa17",
   "metadata": {},
   "source": [
    "## Абстракция"
   ]
  },
  {
   "cell_type": "markdown",
   "id": "f7f0d32d",
   "metadata": {},
   "source": [
    "**Абстрагирование** – это способ выделить набор значимых характеристик объекта, исключая из рассмотрения незначимые\n",
    "\n",
    "**Абстракция**– это набор всех таких характеристик"
   ]
  },
  {
   "cell_type": "code",
   "execution_count": 36,
   "id": "1d6e30f9",
   "metadata": {},
   "outputs": [],
   "source": [
    "from abc import ABC, abstractmethod"
   ]
  },
  {
   "cell_type": "markdown",
   "id": "4f31db32",
   "metadata": {},
   "source": [
    "### Нельзя создавать объекты абстрактного класса"
   ]
  },
  {
   "cell_type": "code",
   "execution_count": 37,
   "id": "7a0db25f",
   "metadata": {},
   "outputs": [
    {
     "ename": "TypeError",
     "evalue": "Can't instantiate abstract class Animal with abstract method move",
     "output_type": "error",
     "traceback": [
      "\u001b[0;31m---------------------------------------------------------------------------\u001b[0m",
      "\u001b[0;31mTypeError\u001b[0m                                 Traceback (most recent call last)",
      "Cell \u001b[0;32mIn[37], line 8\u001b[0m\n\u001b[1;32m      4\u001b[0m     \u001b[38;5;129m@abstractmethod\u001b[39m\n\u001b[1;32m      5\u001b[0m     \u001b[38;5;28;01mdef\u001b[39;00m \u001b[38;5;21mmove\u001b[39m(\u001b[38;5;28mself\u001b[39m):\n\u001b[1;32m      6\u001b[0m         \u001b[38;5;28;01mpass\u001b[39;00m\n\u001b[0;32m----> 8\u001b[0m a \u001b[38;5;241m=\u001b[39m \u001b[43mAnimal\u001b[49m\u001b[43m(\u001b[49m\u001b[43m)\u001b[49m \n\u001b[1;32m      9\u001b[0m \u001b[38;5;66;03m# TypeError: Can't instantiate abstract class Animal with abstract methods move\u001b[39;00m\n",
      "\u001b[0;31mTypeError\u001b[0m: Can't instantiate abstract class Animal with abstract method move"
     ]
    }
   ],
   "source": [
    "# абстрактные классы\n",
    "\n",
    "class Animal(ABC):\n",
    "    @abstractmethod\n",
    "    def move(self):\n",
    "        pass\n",
    "\n",
    "a = Animal()\n",
    "# TypeError: Can't instantiate abstract class Animal with abstract methods move"
   ]
  },
  {
   "cell_type": "markdown",
   "id": "36047090",
   "metadata": {},
   "source": [
    "### Класс, который не наследуется от ABC, не является абстрактным, его объекты можно создавать"
   ]
  },
  {
   "cell_type": "code",
   "execution_count": 39,
   "id": "15cb94bf",
   "metadata": {},
   "outputs": [],
   "source": [
    "class Animal():\n",
    "    @abstractmethod\n",
    "    def move(self):\n",
    "        pass\n",
    "\n",
    "a = Animal()\n",
    "a.move()"
   ]
  },
  {
   "cell_type": "markdown",
   "id": "a33e86c1",
   "metadata": {},
   "source": [
    "### В дочерних классах всегда требуется перегружать абстрактные методы"
   ]
  },
  {
   "cell_type": "code",
   "execution_count": 41,
   "id": "e29ab54d",
   "metadata": {},
   "outputs": [
    {
     "ename": "TypeError",
     "evalue": "Can't instantiate abstract class Cat with abstract method move",
     "output_type": "error",
     "traceback": [
      "\u001b[0;31m---------------------------------------------------------------------------\u001b[0m",
      "\u001b[0;31mTypeError\u001b[0m                                 Traceback (most recent call last)",
      "Cell \u001b[0;32mIn[41], line 13\u001b[0m\n\u001b[1;32m     10\u001b[0m \u001b[38;5;28;01mclass\u001b[39;00m \u001b[38;5;21;01mCat\u001b[39;00m(Animal):\n\u001b[1;32m     11\u001b[0m     \u001b[38;5;28;01mpass\u001b[39;00m\n\u001b[0;32m---> 13\u001b[0m c \u001b[38;5;241m=\u001b[39m \u001b[43mCat\u001b[49m\u001b[43m(\u001b[49m\u001b[43m)\u001b[49m\n\u001b[1;32m     14\u001b[0m \u001b[38;5;66;03m# c.move()\u001b[39;00m\n",
      "\u001b[0;31mTypeError\u001b[0m: Can't instantiate abstract class Cat with abstract method move"
     ]
    }
   ],
   "source": [
    "# абстрактные методы\n",
    "\n",
    "from abc import ABC, abstractmethod\n",
    "\n",
    "class Animal(ABC):\n",
    "    @abstractmethod\n",
    "    def move(self):\n",
    "        print('Animal moves')\n",
    "\n",
    "class Cat(Animal):\n",
    "    pass\n",
    "\n",
    "c = Cat()\n",
    "# c.move()"
   ]
  },
  {
   "cell_type": "markdown",
   "id": "4d8cef20",
   "metadata": {},
   "source": [
    "### Пример перегрузки абстрактного метода"
   ]
  },
  {
   "cell_type": "code",
   "execution_count": 42,
   "id": "5adef9d1",
   "metadata": {},
   "outputs": [
    {
     "name": "stdout",
     "output_type": "stream",
     "text": [
      "Cat moves\n"
     ]
    }
   ],
   "source": [
    "# абстрактные методы\n",
    "\n",
    "from abc import ABC, abstractmethod\n",
    "\n",
    "class Animal(ABC):\n",
    "    @abstractmethod\n",
    "    def move(self):\n",
    "        print('Animal moves')\n",
    "\n",
    "class Cat(Animal):\n",
    "    def move(self):\n",
    "        print('Cat moves')\n",
    "\n",
    "c = Cat()\n",
    "c.move()"
   ]
  },
  {
   "cell_type": "markdown",
   "id": "b9aa5248",
   "metadata": {},
   "source": [
    "### Что будет, если использовать super"
   ]
  },
  {
   "cell_type": "code",
   "execution_count": 43,
   "id": "c06989c8",
   "metadata": {},
   "outputs": [
    {
     "name": "stdout",
     "output_type": "stream",
     "text": [
      "Animal moves\n",
      "Cat moves\n"
     ]
    }
   ],
   "source": [
    "# абстрактные методы\n",
    "\n",
    "from abc import ABC, abstractmethod\n",
    "\n",
    "class Animal(ABC):\n",
    "    @abstractmethod\n",
    "    def move(self):\n",
    "        print('Animal moves')\n",
    "\n",
    "class Cat(Animal):\n",
    "    def move(self):\n",
    "        super().move()\n",
    "        print('Cat moves')\n",
    "\n",
    "c = Cat()\n",
    "c.move()"
   ]
  },
  {
   "cell_type": "markdown",
   "id": "a08af39d",
   "metadata": {},
   "source": [
    "### определение абстрактного метода класса (+ что такое classmethod)"
   ]
  },
  {
   "cell_type": "code",
   "execution_count": 45,
   "id": "145ef66a",
   "metadata": {},
   "outputs": [],
   "source": [
    "from abc import ABC, abstractmethod\n",
    "\n",
    "class Animal(ABC):\n",
    "    @classmethod\n",
    "    @abstractmethod\n",
    "    def my_abstract_classmethod(cls, **kwargs):\n",
    "        pass\n",
    "        \n",
    "    @abstractmethod\n",
    "    def my_abstract_method(self, **kwargs):\n",
    "        pass\n",
    "        \n",
    "class Cat(Animal):\n",
    "    @classmethod\n",
    "    def my_abstract_classmethod(cls, **kwargs):\n",
    "        print('My abstract classmethod for Cat class')\n",
    "        \n",
    "    def my_abstract_method(self, **kwargs):\n",
    "        print('My abstract method for Cat class')"
   ]
  },
  {
   "cell_type": "code",
   "execution_count": 46,
   "id": "43864f96",
   "metadata": {},
   "outputs": [
    {
     "name": "stdout",
     "output_type": "stream",
     "text": [
      "Output classmethod\n",
      "My abstract classmethod for Cat class\n",
      "<bound method Cat.my_abstract_classmethod of <class '__main__.Cat'>>\n"
     ]
    }
   ],
   "source": [
    "cat = Cat()\n",
    "print('Output classmethod')\n",
    "cat.my_abstract_classmethod()\n",
    "print(cat.my_abstract_classmethod)"
   ]
  },
  {
   "cell_type": "code",
   "execution_count": 47,
   "id": "511213ea",
   "metadata": {},
   "outputs": [
    {
     "name": "stdout",
     "output_type": "stream",
     "text": [
      "\n",
      "Output method\n",
      "My abstract method for Cat class\n",
      "<bound method Cat.my_abstract_method of <__main__.Cat object at 0x10461ecd0>>\n"
     ]
    }
   ],
   "source": [
    "print('\\nOutput method')\n",
    "cat.my_abstract_method()\n",
    "print(cat.my_abstract_method)"
   ]
  },
  {
   "cell_type": "markdown",
   "id": "463599db",
   "metadata": {},
   "source": [
    "### абстрактные статические методы класса"
   ]
  },
  {
   "cell_type": "code",
   "execution_count": 48,
   "id": "1e397ee9",
   "metadata": {},
   "outputs": [],
   "source": [
    "from abc import ABC, abstractmethod\n",
    "\n",
    "class Animal(ABC):\n",
    "    @staticmethod\n",
    "    @abstractmethod\n",
    "    def my_abstract_staticmethod(**kwargs):\n",
    "        pass\n",
    "    \n",
    "    @staticmethod\n",
    "    @abstractmethod\n",
    "    def my_abstract_staticmethod_two(**kwargs):\n",
    "        pass\n",
    "\n",
    "    \n",
    "class Cat(Animal):\n",
    "    @staticmethod\n",
    "    def my_abstract_staticmethod(**kwargs):\n",
    "        print(\"I'm static cat\")\n",
    "    \n",
    "    def my_abstract_staticmethod_two(**kwargs):\n",
    "        print(\"I'm static cat two\")"
   ]
  },
  {
   "cell_type": "code",
   "execution_count": 49,
   "id": "c42984ae",
   "metadata": {},
   "outputs": [
    {
     "name": "stdout",
     "output_type": "stream",
     "text": [
      "<function Cat.my_abstract_staticmethod at 0x104130ae0>\n",
      "I'm static cat\n"
     ]
    }
   ],
   "source": [
    "print(Cat().my_abstract_staticmethod)\n",
    "Cat.my_abstract_staticmethod()"
   ]
  },
  {
   "cell_type": "code",
   "execution_count": 50,
   "id": "603c12ce",
   "metadata": {},
   "outputs": [
    {
     "name": "stdout",
     "output_type": "stream",
     "text": [
      "<bound method Cat.my_abstract_staticmethod_two of <__main__.Cat object at 0x10415d950>>\n",
      "I'm static cat two\n"
     ]
    }
   ],
   "source": [
    "print(Cat().my_abstract_staticmethod_two)\n",
    "Cat.my_abstract_staticmethod_two()"
   ]
  },
  {
   "cell_type": "code",
   "execution_count": null,
   "id": "1dffa026",
   "metadata": {},
   "outputs": [],
   "source": []
  },
  {
   "cell_type": "code",
   "execution_count": 51,
   "id": "2f24bb84",
   "metadata": {},
   "outputs": [
    {
     "data": {
      "text/plain": [
       "'None'"
      ]
     },
     "execution_count": 51,
     "metadata": {},
     "output_type": "execute_result"
    }
   ],
   "source": [
    "# абстрактный дескриптор\n",
    "\n",
    "from abc import ABC, abstractmethod\n",
    "\n",
    "class C(ABC):\n",
    "    @property\n",
    "    @abstractmethod\n",
    "    def my_abstract_property(self):\n",
    "        pass\n",
    "    \n",
    "class CDaughter(C):\n",
    "    def __init__(self, melf='None'):\n",
    "        super().__init__()\n",
    "        self.melf = melf\n",
    "\n",
    "    @property\n",
    "    def my_abstract_property(self):\n",
    "        return self.melf\n",
    "\n",
    "c = CDaughter()\n",
    "c.my_abstract_property"
   ]
  },
  {
   "cell_type": "code",
   "execution_count": 52,
   "id": "0c411b50",
   "metadata": {},
   "outputs": [
    {
     "data": {
      "text/plain": [
       "0"
      ]
     },
     "execution_count": 52,
     "metadata": {},
     "output_type": "execute_result"
    }
   ],
   "source": [
    "# абстрактное свойство\n",
    "\n",
    "from abc import ABC, abstractmethod\n",
    "\n",
    "class C(ABC):\n",
    "    def __init__(self, val=0):\n",
    "        self.val = val\n",
    "        \n",
    "    @property\n",
    "    def x(self):\n",
    "        return self.val\n",
    "\n",
    "    @x.setter\n",
    "    @abstractmethod\n",
    "    def x(self, val):\n",
    "        self.val = val\n",
    "        \n",
    "class D(C):\n",
    "    @C.x.setter\n",
    "    def x(self, val):\n",
    "        self.val = val + 100\n",
    "\n",
    "d = D()\n",
    "d.x"
   ]
  },
  {
   "cell_type": "code",
   "execution_count": 53,
   "id": "7599d8fc",
   "metadata": {},
   "outputs": [
    {
     "data": {
      "text/plain": [
       "105"
      ]
     },
     "execution_count": 53,
     "metadata": {},
     "output_type": "execute_result"
    }
   ],
   "source": [
    "d.x = 5\n",
    "d.x"
   ]
  },
  {
   "cell_type": "markdown",
   "id": "07093558",
   "metadata": {},
   "source": [
    "## Метаклассы"
   ]
  },
  {
   "cell_type": "code",
   "execution_count": 54,
   "id": "d68c730c",
   "metadata": {},
   "outputs": [],
   "source": [
    "class MyMeta(type):\n",
    "    pass\n",
    "\n",
    "class MyClass(metaclass=MyMeta):\n",
    "    pass\n",
    "\n",
    "class MySubclass(MyClass):\n",
    "    pass"
   ]
  },
  {
   "cell_type": "code",
   "execution_count": 55,
   "id": "e9d1cf85",
   "metadata": {},
   "outputs": [
    {
     "name": "stdout",
     "output_type": "stream",
     "text": [
      "<class 'type'>\n",
      "<class '__main__.MyMeta'>\n",
      "<class '__main__.MyMeta'>\n"
     ]
    }
   ],
   "source": [
    "print(type(MyMeta))\n",
    "print(type(MyClass))\n",
    "print(type(MySubclass))"
   ]
  },
  {
   "cell_type": "code",
   "execution_count": 56,
   "id": "8b626705",
   "metadata": {},
   "outputs": [],
   "source": [
    "class MetaOne(type):\n",
    "    def __new__(cls, name, bases, dict):\n",
    "        pass\n",
    "    \n",
    "class MetaTwo(type):\n",
    "    def __init__(self, name, bases, dict):\n",
    "        pass"
   ]
  },
  {
   "cell_type": "code",
   "execution_count": null,
   "id": "235b997d",
   "metadata": {},
   "outputs": [],
   "source": [
    "class SingletonMeta(type):\n",
    "    _instances = {}\n",
    "    def __call__(cls, *args, **kwargs):\n",
    "        if cls not in cls._instances:\n",
    "            cls._instances[cls] = super(SingletonMeta,cls).__call__(*args, **kwargs)\n",
    "        return cls._instances[cls]\n",
    "    \n",
    "    \n",
    "class SingletonClass(metaclass=SingletonMeta):\n",
    "    pass"
   ]
  },
  {
   "cell_type": "markdown",
   "id": "bbf11eab",
   "metadata": {},
   "source": [
    "# Исключения"
   ]
  },
  {
   "cell_type": "code",
   "execution_count": 58,
   "id": "b5bc9fd5",
   "metadata": {},
   "outputs": [
    {
     "name": "stdout",
     "output_type": "stream",
     "text": [
      "0 -1\n"
     ]
    },
    {
     "ename": "ValueError",
     "evalue": "invalid literal for int() with base 10: '0 -1'",
     "output_type": "error",
     "traceback": [
      "\u001b[0;31m---------------------------------------------------------------------------\u001b[0m",
      "\u001b[0;31mValueError\u001b[0m                                Traceback (most recent call last)",
      "Cell \u001b[0;32mIn[58], line 1\u001b[0m\n\u001b[0;32m----> 1\u001b[0m \u001b[38;5;28mprint\u001b[39m(\u001b[38;5;124m\"\u001b[39m\u001b[38;5;124m;\u001b[39m\u001b[38;5;124m\"\u001b[39m\u001b[38;5;241m.\u001b[39mjoin(\u001b[38;5;28mstr\u001b[39m(\u001b[38;5;241m1\u001b[39m \u001b[38;5;241m/\u001b[39m x) \u001b[38;5;28;01mfor\u001b[39;00m x \u001b[38;5;129;01min\u001b[39;00m \u001b[38;5;28mrange\u001b[39m(\u001b[38;5;28;43mint\u001b[39;49m\u001b[43m(\u001b[49m\u001b[38;5;28;43minput\u001b[39;49m\u001b[43m(\u001b[49m\u001b[43m)\u001b[49m\u001b[43m)\u001b[49m, \u001b[38;5;28mint\u001b[39m(\u001b[38;5;28minput\u001b[39m()) \u001b[38;5;241m+\u001b[39m \u001b[38;5;241m1\u001b[39m)))\n",
      "\u001b[0;31mValueError\u001b[0m: invalid literal for int() with base 10: '0 -1'"
     ]
    }
   ],
   "source": [
    "print(\";\".join(str(1 / x) for x in range(int(input()), int(input()) + 1)))"
   ]
  },
  {
   "cell_type": "code",
   "execution_count": null,
   "id": "3ada42ab",
   "metadata": {},
   "outputs": [],
   "source": []
  },
  {
   "cell_type": "code",
   "execution_count": 60,
   "id": "faf3b9b6",
   "metadata": {},
   "outputs": [
    {
     "name": "stdout",
     "output_type": "stream",
     "text": [
      "0\n",
      "3\n",
      "Диапазон чисел содержит 0.\n"
     ]
    }
   ],
   "source": [
    "interval = range(int(input()), int(input()) + 1)\n",
    "if 0 in interval:\n",
    "    print(\"Диапазон чисел содержит 0.\")\n",
    "else:\n",
    "    print(\";\".join(str(1 / x) for x in interval))"
   ]
  },
  {
   "cell_type": "code",
   "execution_count": null,
   "id": "4153ed16",
   "metadata": {},
   "outputs": [],
   "source": []
  },
  {
   "cell_type": "code",
   "execution_count": 61,
   "id": "75f4e01f",
   "metadata": {},
   "outputs": [
    {
     "name": "stdout",
     "output_type": "stream",
     "text": [
      "1\n",
      "\n",
      "ввести два числа.\n"
     ]
    }
   ],
   "source": [
    "start = input()\n",
    "end = input()\n",
    "# Метод lstrip(\"-\"), удаляющий символы \"-\" в начале строки, нужен для учёта\n",
    "# отрицательных чисел, иначе isdigit() вернёт для них False\n",
    "if not (start.lstrip(\"-\").isdigit() and end.lstrip(\"-\").isdigit()):\n",
    "    print(\"ввести два числа.\")\n",
    "else:\n",
    "    interval = range(int(start), int(end) + 1)\n",
    "    if 0 in interval:\n",
    "        print(\"Диапазон чисел содержит 0.\")\n",
    "    else:\n",
    "        print(\";\".join(str(1 / x) for x in interval))"
   ]
  },
  {
   "cell_type": "markdown",
   "id": "7188b7fa",
   "metadata": {},
   "source": [
    "BaseException\n",
    "\n",
    " +-- SystemExit\n",
    " \n",
    " +-- KeyboardInterrupt\n",
    " \n",
    " +-- GeneratorExit\n",
    " \n",
    " +-- Exception\n",
    " \n",
    "      +-- StopIteration\n",
    "      \n",
    "      +-- StopAsyncIteration\n",
    "      \n",
    "      +-- ArithmeticError\n",
    "      |    +-- FloatingPointError\n",
    "      |    +-- OverflowError\n",
    "      |    +-- ZeroDivisionError\n",
    "      +-- AssertionError\n",
    "      +-- AttributeError\n",
    "      +-- BufferError\n",
    "      +-- EOFError\n",
    "      +-- ImportError\n",
    "      |    +-- ModuleNotFoundError\n",
    "      +-- LookupError\n",
    "      |    +-- IndexError\n",
    "      |    +-- KeyError\n",
    "      +-- MemoryError\n",
    "      +-- NameError\n",
    "      |    +-- UnboundLocalError\n",
    "      +-- OSError\n",
    "      |    +-- BlockingIOError\n",
    "      |    +-- ChildProcessError\n",
    "      |    +-- ConnectionError\n",
    "      |    |    +-- BrokenPipeError\n",
    "      |    |    +-- ConnectionAbortedError\n",
    "      |    |    +-- ConnectionRefusedError\n",
    "      |    |    +-- ConnectionResetError\n",
    "      |    +-- FileExistsError\n",
    "      |    +-- FileNotFoundError\n",
    "      |    +-- InterruptedError\n",
    "      |    +-- IsADirectoryError\n",
    "      |    +-- NotADirectoryError\n",
    "      |    +-- PermissionError\n",
    "      |    +-- ProcessLookupError\n",
    "      |    +-- TimeoutError\n",
    "      +-- ReferenceError\n",
    "      +-- RuntimeError\n",
    "      |    +-- NotImplementedError\n",
    "      |    +-- RecursionError\n",
    "      +-- SyntaxError\n",
    "      |    +-- IndentationError\n",
    "      |         +-- TabError\n",
    "      +-- SystemError\n",
    "      +-- TypeError\n",
    "      +-- ValueError\n",
    "      |    +-- UnicodeError\n",
    "      |         +-- UnicodeDecodeError\n",
    "      |         +-- UnicodeEncodeError\n",
    "      |         +-- UnicodeTranslateError\n",
    "      +-- Warning\n",
    "           +-- DeprecationWarning\n",
    "           +-- PendingDeprecationWarning\n",
    "           +-- RuntimeWarning\n",
    "           +-- SyntaxWarning\n",
    "           +-- UserWarning\n",
    "           +-- FutureWarning\n",
    "           +-- ImportWarning\n",
    "           +-- UnicodeWarning\n",
    "           +-- BytesWarning\n",
    "           +-- EncodingWarning\n",
    "           +-- ResourceWarning"
   ]
  },
  {
   "cell_type": "markdown",
   "id": "ed1ceb26",
   "metadata": {},
   "source": [
    "try:\n",
    "\n",
    "    <код , который может вызвать исключения при выполнении>\n",
    "except <классисключения_1>:\n",
    "\n",
    "    <код обработки исключения>\n",
    "except <классисключения_2>:\n",
    "\n",
    "    <код обработки исключения>\n",
    "...\n",
    "else:\n",
    "\n",
    "    <код выполняется, если не вызвано исключение в блоке try>\n",
    "finally:\n",
    "\n",
    "    <код , который выполняется всегда>"
   ]
  },
  {
   "cell_type": "code",
   "execution_count": 63,
   "id": "cfb3f571",
   "metadata": {},
   "outputs": [
    {
     "name": "stdout",
     "output_type": "stream",
     "text": [
      "lkfdlsf\n",
      "Невозможно преобразовать строку в число.\n"
     ]
    }
   ],
   "source": [
    "try:\n",
    "    print(1 / int(input()))\n",
    "except ZeroDivisionError:\n",
    "    print(\"Ошибка деления на ноль.\")\n",
    "except ValueError:\n",
    "    print(\"Невозможно преобразовать строку в число.\")\n",
    "except Exception:\n",
    "    print(\"Неизвестная ошибка.\")"
   ]
  },
  {
   "cell_type": "code",
   "execution_count": null,
   "id": "70681b05",
   "metadata": {},
   "outputs": [],
   "source": []
  },
  {
   "cell_type": "code",
   "execution_count": 65,
   "id": "0f88b861",
   "metadata": {},
   "outputs": [
    {
     "name": "stdout",
     "output_type": "stream",
     "text": [
      "hjbhjbjh\n",
      "Неизвестная ошибка.\n"
     ]
    }
   ],
   "source": [
    "try:\n",
    "    print(1 / int(input()))\n",
    "except Exception:\n",
    "    print(\"Неизвестная ошибка.\")\n",
    "except ZeroDivisionError:\n",
    "    print(\"Ошибка деления на ноль.\")\n",
    "except ValueError:\n",
    "    print(\"Невозможно преобразовать строку в число.\")"
   ]
  },
  {
   "cell_type": "code",
   "execution_count": null,
   "id": "b6968e3e",
   "metadata": {},
   "outputs": [],
   "source": []
  },
  {
   "cell_type": "code",
   "execution_count": 66,
   "id": "cfa4e851",
   "metadata": {},
   "outputs": [
    {
     "name": "stdout",
     "output_type": "stream",
     "text": [
      "7\n",
      "0.14285714285714285\n",
      "Операция выполнена успешно.\n"
     ]
    }
   ],
   "source": [
    "try:\n",
    "    print(1 / int(input()))\n",
    "except ZeroDivisionError:\n",
    "    print(\"Ошибка деления на ноль.\")\n",
    "except ValueError:\n",
    "    print(\"Невозможно преобразовать строку в число.\")\n",
    "except Exception:\n",
    "    print(\"Неизвестная ошибка.\")\n",
    "else:\n",
    "    print(\"Операция выполнена успешно.\")"
   ]
  },
  {
   "cell_type": "code",
   "execution_count": null,
   "id": "11c395cb",
   "metadata": {},
   "outputs": [],
   "source": []
  },
  {
   "cell_type": "code",
   "execution_count": 68,
   "id": "254dfa97",
   "metadata": {},
   "outputs": [
    {
     "name": "stdout",
     "output_type": "stream",
     "text": [
      "7\n",
      "0.14285714285714285\n",
      "Операция выполнена успешно.\n",
      "Программа завершена.\n"
     ]
    }
   ],
   "source": [
    "try:\n",
    "    print(1 / int(input()))\n",
    "except ZeroDivisionError:\n",
    "    print(\"Ошибка деления на ноль.\")\n",
    "except ValueError:\n",
    "    print(\"Невозможно преобразовать строку в число.\")\n",
    "except Exception:\n",
    "    print(\"Неизвестная ошибка.\")\n",
    "else:\n",
    "    print(\"Операция выполнена успешно.\")\n",
    "finally:\n",
    "    print(\"Программа завершена.\")"
   ]
  },
  {
   "cell_type": "code",
   "execution_count": null,
   "id": "c8695de6",
   "metadata": {},
   "outputs": [],
   "source": []
  },
  {
   "cell_type": "code",
   "execution_count": 70,
   "id": "c0343aea",
   "metadata": {},
   "outputs": [
    {
     "name": "stdout",
     "output_type": "stream",
     "text": [
      "jnk\n",
      "Необходимо ввести два числа.\n"
     ]
    }
   ],
   "source": [
    "try:\n",
    "    print(\";\".join(str(1 / x) for x in range(int(input()), int(input()) + 1)))\n",
    "except ZeroDivisionError:\n",
    "    print(\"Диапазон чисел содержит 0.\")\n",
    "except ValueError:\n",
    "    print(\"Необходимо ввести два числа.\")"
   ]
  },
  {
   "cell_type": "markdown",
   "id": "4beef314",
   "metadata": {},
   "source": [
    "# Создание собственных исключений"
   ]
  },
  {
   "cell_type": "code",
   "execution_count": 72,
   "id": "28b6e174",
   "metadata": {},
   "outputs": [
    {
     "name": "stdout",
     "output_type": "stream",
     "text": [
      "Введите числа в одну строку через пробел:\n",
      "4 -5 6\n",
      "Произошла ошибка: В списке не должно быть отрицательных чисел.\n"
     ]
    }
   ],
   "source": [
    "class NumbersError(Exception):\n",
    "    pass\n",
    "\n",
    "\n",
    "class EvenError(NumbersError):\n",
    "    pass\n",
    "\n",
    "\n",
    "class NegativeError(NumbersError):\n",
    "    pass\n",
    "\n",
    "\n",
    "def no_even(numbers):\n",
    "    if all(x % 2 != 0 for x in numbers):\n",
    "        return True\n",
    "    raise EvenError(\"В списке не должно быть чётных чисел\")\n",
    "\n",
    "\n",
    "def no_negative(numbers):\n",
    "    if all(x >= 0 for x in numbers):\n",
    "        return True\n",
    "    raise NegativeError(\"В списке не должно быть отрицательных чисел\")\n",
    "\n",
    "print(\"Введите числа в одну строку через пробел:\")\n",
    "try:\n",
    "    numbers = [int(x) for x in input().split()]\n",
    "    if no_negative(numbers) and no_even(numbers):\n",
    "        print(f\"Сумма чисел равна: {sum(numbers)}.\")\n",
    "except NumbersError as e:  # обращение к исключению как к объекту\n",
    "    print(f\"Произошла ошибка: {e}.\")\n",
    "except Exception as e:\n",
    "    print(f\"Произошла непредвиденная ошибка: {e}.\")"
   ]
  },
  {
   "cell_type": "code",
   "execution_count": null,
   "id": "01f74664",
   "metadata": {},
   "outputs": [],
   "source": []
  },
  {
   "cell_type": "code",
   "execution_count": null,
   "id": "227675ef",
   "metadata": {},
   "outputs": [],
   "source": []
  }
 ],
 "metadata": {
  "kernelspec": {
   "display_name": "Python 3 (ipykernel)",
   "language": "python",
   "name": "python3"
  },
  "language_info": {
   "codemirror_mode": {
    "name": "ipython",
    "version": 3
   },
   "file_extension": ".py",
   "mimetype": "text/x-python",
   "name": "python",
   "nbconvert_exporter": "python",
   "pygments_lexer": "ipython3",
   "version": "3.11.11"
  }
 },
 "nbformat": 4,
 "nbformat_minor": 5
}
