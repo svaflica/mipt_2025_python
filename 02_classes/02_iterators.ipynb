{
 "cells": [
  {
   "cell_type": "code",
   "execution_count": 20,
   "metadata": {},
   "outputs": [
    {
     "name": "stdout",
     "output_type": "stream",
     "text": [
      "0\n",
      "1\n",
      "2\n",
      "3\n",
      "4\n",
      "5\n",
      "6\n",
      "7\n",
      "8\n",
      "9\n"
     ]
    }
   ],
   "source": [
    "for i in range(10):\n",
    "    print(i)\n",
    "\n",
    "# next(range(0, 10, 1))"
   ]
  },
  {
   "cell_type": "code",
   "execution_count": null,
   "metadata": {},
   "outputs": [],
   "source": [
    "# yield"
   ]
  },
  {
   "cell_type": "code",
   "execution_count": 22,
   "metadata": {},
   "outputs": [
    {
     "name": "stdout",
     "output_type": "stream",
     "text": [
      "0\n",
      "1\n",
      "2\n",
      "3\n",
      "4\n",
      "5\n",
      "6\n",
      "7\n",
      "8\n",
      "9\n"
     ]
    }
   ],
   "source": [
    "a = [_ for _ in range(10)]\n",
    "\n",
    "for i in a:\n",
    "    print(i)\n",
    "\n",
    "# next(a.__iter__)"
   ]
  },
  {
   "cell_type": "markdown",
   "metadata": {},
   "source": [
    "Итераторы и Python\n",
    "---\n",
    "\n",
    "*Итератор* - паттерн проектирования, который предоставляет удобный интерфейс для перебора какой-либо коллекции элементов.\n",
    "\n",
    "В качестве примера приведём пользовательский класс \"RecordCollection\", хранящий объекты класса \"Record\" в хэш-таблице, где в качестве хэша выступают тэги, назначаемые пользователем."
   ]
  },
  {
   "cell_type": "code",
   "execution_count": 1,
   "metadata": {},
   "outputs": [],
   "source": [
    "class Record:\n",
    "    def __init__(self, *tags, **data):\n",
    "        self.__dict__[\"_tags\"] = list(tags)\n",
    "        self.__dict__[\"_data\"] = data\n",
    "    \n",
    "    def __getitem__(self, key):\n",
    "        if (key in self._data.keys()):\n",
    "            return self._data[key]\n",
    "        raise KeyError\n",
    "    \n",
    "    def __setattr__(self, __name: str, __value):\n",
    "        self.__dict__[\"_data\"][__name] = __value\n",
    "    \n",
    "    def __getattr__(self, __name: str):\n",
    "        if __name in self.__dict__[\"_data\"].keys():\n",
    "            return self.__dict__[\"_data\"][__name]\n",
    "        raise AttributeError\n",
    "\n",
    "    def __repr__(self) -> str:\n",
    "        return f\"tags:\\t{self._tags}\\ndata:\\t{self._data}\"\n",
    "    \n",
    "    def __str__(self) -> str:\n",
    "        return self.__repr__()\n",
    "    \n",
    "    def addTag(self, tag: str):\n",
    "        self.__dict__[\"_tags\"].append(tag)\n",
    "\n",
    "    def getTags(self):\n",
    "        return self.__dict__[\"_tags\"]"
   ]
  },
  {
   "cell_type": "code",
   "execution_count": 28,
   "metadata": {},
   "outputs": [
    {
     "data": {
      "text/plain": [
       "tags:\t['t1']\n",
       "data:\t{'value': 30}"
      ]
     },
     "execution_count": 28,
     "metadata": {},
     "output_type": "execute_result"
    }
   ],
   "source": [
    "rec = Record()\n",
    "rec.value = 30\n",
    "rec.addTag(\"t1\")\n",
    "rec"
   ]
  },
  {
   "cell_type": "code",
   "execution_count": 2,
   "metadata": {},
   "outputs": [
    {
     "name": "stdout",
     "output_type": "stream",
     "text": [
      "tags:\t['sample_tag']\n",
      "data:\t{'first_val': 1, 'second_val': 2}\n",
      "1\n",
      "tags:\t['sample_tag']\n",
      "data:\t{}\n"
     ]
    }
   ],
   "source": [
    "a = Record(\"sample_tag\", first_val = 1, second_val = 2)\n",
    "print(a)\n",
    "print(a.first_val)\n",
    "b = Record()\n",
    "b.addTag(\"sample_tag\")\n",
    "print(b)"
   ]
  },
  {
   "cell_type": "markdown",
   "metadata": {},
   "source": [
    "Ключевые особенности итераторов:\n",
    "- Алгоритм перебора коллекции определён в итераторе, исходная коллекция знает только о существовании итератора\n",
    "- Итерация реализуется через \"магический метод\" \\_\\_iter__ внутри коллекции, метод возвращает ссылку на экземпляр итератора\n",
    "- Протокол итератора состоит в двух методах: \n",
    "    - \\_\\_next__ - возвращает ссылку на следующий элемент коллекции\n",
    "    - \\_\\_iter__ - возвращает ссылку на сам объект итератора (договорённость)"
   ]
  },
  {
   "cell_type": "code",
   "execution_count": 15,
   "metadata": {},
   "outputs": [],
   "source": [
    "class RecordIterator:\n",
    "    def __init__(self, records:dict):\n",
    "        self.__records = records\n",
    "        self.__tags = list(self.__records.keys())\n",
    "        self.__current_tag = 0 if len(self.__tags) > 0 else None\n",
    "        self.__current_index = 0 if len(self.__tags) > 0 else None\n",
    "        self.__iterated = set()\n",
    "    \n",
    "    def __iter__(self):\n",
    "        return self\n",
    "    \n",
    "    def __next__(self):\n",
    "        if self.__current_tag is None or self.__current_index is None:\n",
    "            raise StopIteration\n",
    "        \n",
    "        out = self.__records[self.__tags[self.__current_tag]][self.__current_index]\n",
    "\n",
    "        while(out in self.__iterated):\n",
    "            self.__iterate()\n",
    "            if self.__current_tag is None or self.__current_index is None:\n",
    "                raise StopIteration\n",
    "            out = self.__records[self.__tags[self.__current_tag]][self.__current_index]\n",
    "        \n",
    "        self.__iterated.add(out)\n",
    "\n",
    "        return out\n",
    "\n",
    "    def __iterate(self):\n",
    "        self.__current_index = self.__current_index + 1 \n",
    "        # if we overstepped list bound\n",
    "        if self.__current_index >= len(self.__records[self.__tags[self.__current_tag]]):\n",
    "            self.__current_index = None\n",
    "            # try to get next tag\n",
    "            self.__current_tag = self.__current_tag + 1 \n",
    "            # if reached end of tag list set both current index and tag None\n",
    "            if self.__current_tag >= len(self.__tags):\n",
    "                self.__current_tag = None\n",
    "            else:\n",
    "                # else set current index to first element of list for this tag\n",
    "                self.__current_index = 0\n",
    "    \n",
    "    def begin(self):\n",
    "        if len(self.__tags) > 0:\n",
    "            return self.__records[self.__tags[self.__current_index]]\n",
    "        return None\n",
    "    \n",
    "    def end(self):\n",
    "        if len(self.__tags) > 0:\n",
    "            self.__current_index = len(self.__records) - 1\n",
    "            return self.__records[self.__tags[self.__current_index]]"
   ]
  },
  {
   "cell_type": "markdown",
   "metadata": {},
   "source": [
    "Положим, нам необходимо пройтись по экземпляру класса \"RecordCollection\" в цикле for так, чтобы каждая запись была выведена ровно один раз - если у неё несколько тэгов, то по первому из них"
   ]
  },
  {
   "cell_type": "code",
   "execution_count": 16,
   "metadata": {},
   "outputs": [],
   "source": [
    "class RecordCollection:\n",
    "    def __init__(self, *records):\n",
    "        self._recs = {}\n",
    "        for rec in records:\n",
    "            if not type(rec) is Record:\n",
    "                raise ValueError\n",
    "            for tag in rec.getTags():\n",
    "                if tag in self._recs.keys():\n",
    "                    self._recs[tag].append(rec)\n",
    "                else:\n",
    "                    self._recs[tag] = [rec]\n",
    "    \n",
    "    def __iter__(self):\n",
    "        return RecordIterator(self._recs)\n",
    "    \n",
    "    def addRecord(self, rec:Record):\n",
    "        if not type(rec) is Record:\n",
    "            raise ValueError\n",
    "        self._recs.append(rec)\n"
   ]
  },
  {
   "cell_type": "code",
   "execution_count": 31,
   "metadata": {},
   "outputs": [],
   "source": [
    "a = Record(\"t1\", \"t2\", a = 1)\n",
    "b = Record(\"t2\", b = \"Lorem Ipsum\")\n",
    "c = Record(\"t1\", \"t2\", c = (1, 2, 3))\n"
   ]
  },
  {
   "cell_type": "code",
   "execution_count": 34,
   "metadata": {},
   "outputs": [
    {
     "data": {
      "text/plain": [
       "<__main__.RecordCollection at 0x1eceb220210>"
      ]
     },
     "execution_count": 34,
     "metadata": {},
     "output_type": "execute_result"
    }
   ],
   "source": [
    "\n",
    "collection = RecordCollection(a, b, c)\n",
    "collection"
   ]
  },
  {
   "cell_type": "code",
   "execution_count": 35,
   "metadata": {},
   "outputs": [
    {
     "name": "stdout",
     "output_type": "stream",
     "text": [
      "tags:\t['t1', 't2']\n",
      "data:\t{'a': 1}\n",
      "tags:\t['t1', 't2']\n",
      "data:\t{'c': (1, 2, 3)}\n",
      "tags:\t['t2']\n",
      "data:\t{'b': 'Lorem Ipsum'}\n"
     ]
    }
   ],
   "source": [
    "for rec in collection:\n",
    "    print(rec)"
   ]
  },
  {
   "cell_type": "code",
   "execution_count": 36,
   "metadata": {},
   "outputs": [],
   "source": [
    "for rec in RecordCollection():\n",
    "    print(\"Lorem ipsum\")"
   ]
  }
 ],
 "metadata": {
  "kernelspec": {
   "display_name": "Python 3",
   "language": "python",
   "name": "python3"
  },
  "language_info": {
   "codemirror_mode": {
    "name": "ipython",
    "version": 3
   },
   "file_extension": ".py",
   "mimetype": "text/x-python",
   "name": "python",
   "nbconvert_exporter": "python",
   "pygments_lexer": "ipython3",
   "version": "3.11.6"
  }
 },
 "nbformat": 4,
 "nbformat_minor": 2
}
