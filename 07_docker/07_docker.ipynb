{
 "cells": [
  {
   "attachments": {},
   "cell_type": "markdown",
   "id": "50511966",
   "metadata": {},
   "source": [
    "# Docker\n",
    "\n",
    "**Докер** - это инструмент, который позволяет разработчикам, системными администраторам и другим специалистам деплоить их приложения в контейнерах для запуска на целевой ОС\n",
    "\n",
    "**Образы** это основы для контейнеров\n",
    "\n",
    "**Base images (базовые образы)** — это образы, которые не имеют родительского образа. Обычно это образы с операционной системой, такие как ubuntu, busybox или debian.\n",
    "\n",
    "**Child images (дочерние образы)** — это образы, построенные на базовых образах и обладающие дополнительной функциональностью\n",
    "\n",
    "\n",
    "**Dockerfile** — это простой текстовый файл, в котором содержится список команд Докер-клиента"
   ]
  },
  {
   "cell_type": "markdown",
   "id": "155222f9",
   "metadata": {},
   "source": [
    "# Docker-compose\n",
    "\n",
    "**docker-compose** - инструмент для определения и запуска много-контейнерных приложений."
   ]
  },
  {
   "cell_type": "code",
   "execution_count": null,
   "id": "e5026392",
   "metadata": {},
   "outputs": [],
   "source": []
  },
  {
   "cell_type": "markdown",
   "id": "752d625e",
   "metadata": {},
   "source": [
    "## Для работы кода ниже надо запустить docker-compose"
   ]
  },
  {
   "cell_type": "markdown",
   "id": "615b762c",
   "metadata": {},
   "source": [
    "## Проверяем пользователей"
   ]
  },
  {
   "cell_type": "code",
   "execution_count": 83,
   "id": "16ee55fb",
   "metadata": {},
   "outputs": [],
   "source": [
    "import requests\n",
    "\n",
    "resp = requests.post('http://localhost:8000/add_user', json={'email': 'a7@mail.ru', 'password': 'dfsfg'})"
   ]
  },
  {
   "cell_type": "code",
   "execution_count": 84,
   "id": "79cc4d98",
   "metadata": {},
   "outputs": [
    {
     "data": {
      "text/plain": [
       "<Response [200]>"
      ]
     },
     "execution_count": 84,
     "metadata": {},
     "output_type": "execute_result"
    }
   ],
   "source": [
    "resp"
   ]
  },
  {
   "cell_type": "code",
   "execution_count": 85,
   "id": "e28c3c18",
   "metadata": {},
   "outputs": [
    {
     "data": {
      "text/plain": [
       "b'null'"
      ]
     },
     "execution_count": 85,
     "metadata": {},
     "output_type": "execute_result"
    }
   ],
   "source": [
    "resp.content"
   ]
  },
  {
   "cell_type": "markdown",
   "id": "dc8d9a06",
   "metadata": {},
   "source": [
    "## Проверяем получение пользователей"
   ]
  },
  {
   "cell_type": "code",
   "execution_count": 77,
   "id": "8ce9a196",
   "metadata": {},
   "outputs": [],
   "source": [
    "resp = requests.get('http://localhost:8000/get_users')"
   ]
  },
  {
   "cell_type": "code",
   "execution_count": 78,
   "id": "85df06da",
   "metadata": {},
   "outputs": [
    {
     "data": {
      "text/plain": [
       "<Response [200]>"
      ]
     },
     "execution_count": 78,
     "metadata": {},
     "output_type": "execute_result"
    }
   ],
   "source": [
    "resp"
   ]
  },
  {
   "cell_type": "code",
   "execution_count": 79,
   "id": "e616acf4",
   "metadata": {},
   "outputs": [
    {
     "data": {
      "text/plain": [
       "b'[{\"id\":1,\"password\":\"dfsfg\",\"email\":\"a@mail.ru\"},{\"id\":2,\"password\":\"dfsfg\",\"email\":\"a2@mail.ru\"},{\"id\":3,\"password\":\"dfsfg\",\"email\":\"a2@mail.ru\"},{\"id\":4,\"password\":\"dfsfg\",\"email\":\"a5@mail.ru\"}]'"
      ]
     },
     "execution_count": 79,
     "metadata": {},
     "output_type": "execute_result"
    }
   ],
   "source": [
    "resp.content"
   ]
  },
  {
   "cell_type": "code",
   "execution_count": null,
   "id": "57b8685f",
   "metadata": {},
   "outputs": [],
   "source": []
  }
 ],
 "metadata": {
  "kernelspec": {
   "display_name": "Python 3 (ipykernel)",
   "language": "python",
   "name": "python3"
  },
  "language_info": {
   "codemirror_mode": {
    "name": "ipython",
    "version": 3
   },
   "file_extension": ".py",
   "mimetype": "text/x-python",
   "name": "python",
   "nbconvert_exporter": "python",
   "pygments_lexer": "ipython3",
   "version": "3.11.11"
  }
 },
 "nbformat": 4,
 "nbformat_minor": 5
}
