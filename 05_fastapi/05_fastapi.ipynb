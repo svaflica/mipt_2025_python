{
 "cells": [
  {
   "cell_type": "markdown",
   "id": "0400359e",
   "metadata": {},
   "source": [
    "# Сетевое взаимодействие (добавить инфу про сетевое взаимодействие: grpc, http и тд)"
   ]
  },
  {
   "cell_type": "code",
   "execution_count": 7,
   "id": "1d993421",
   "metadata": {},
   "outputs": [],
   "source": [
    "# !pip install fastapi\n",
    "# !pip install \"uvicorn[standard]\""
   ]
  },
  {
   "cell_type": "code",
   "execution_count": 4,
   "id": "ebb68ce8",
   "metadata": {},
   "outputs": [],
   "source": [
    "from fastapi import FastAPI\n",
    " \n",
    "app = FastAPI()"
   ]
  },
  {
   "cell_type": "code",
   "execution_count": null,
   "id": "1dd51269",
   "metadata": {},
   "outputs": [],
   "source": []
  },
  {
   "cell_type": "code",
   "execution_count": 5,
   "id": "d88fe418",
   "metadata": {},
   "outputs": [],
   "source": [
    "@app.get(\"/\")\n",
    "def root():\n",
    "    return {\"message\": \"Hello my dear friends\"}"
   ]
  },
  {
   "cell_type": "code",
   "execution_count": 8,
   "id": "98a7bbd8",
   "metadata": {},
   "outputs": [],
   "source": [
    "# uvicorn main:app --reload"
   ]
  },
  {
   "cell_type": "code",
   "execution_count": null,
   "id": "764ce303",
   "metadata": {},
   "outputs": [],
   "source": []
  },
  {
   "cell_type": "markdown",
   "id": "181014f5",
   "metadata": {},
   "source": [
    "## Отправка ответов"
   ]
  },
  {
   "cell_type": "code",
   "execution_count": null,
   "id": "ef5f6181",
   "metadata": {},
   "outputs": [],
   "source": []
  },
  {
   "cell_type": "code",
   "execution_count": null,
   "id": "2aebc537",
   "metadata": {},
   "outputs": [],
   "source": []
  },
  {
   "cell_type": "markdown",
   "id": "a80cf192",
   "metadata": {},
   "source": [
    "## Отправка файлов"
   ]
  },
  {
   "cell_type": "code",
   "execution_count": null,
   "id": "e1361cb6",
   "metadata": {},
   "outputs": [],
   "source": []
  },
  {
   "cell_type": "code",
   "execution_count": null,
   "id": "7540ac40",
   "metadata": {},
   "outputs": [],
   "source": []
  },
  {
   "cell_type": "markdown",
   "id": "42f7a8b9",
   "metadata": {},
   "source": [
    "## Передача параметров в запросе"
   ]
  },
  {
   "cell_type": "code",
   "execution_count": null,
   "id": "08f0aa02",
   "metadata": {},
   "outputs": [],
   "source": []
  },
  {
   "cell_type": "code",
   "execution_count": null,
   "id": "d93d915e",
   "metadata": {},
   "outputs": [],
   "source": []
  },
  {
   "cell_type": "markdown",
   "id": "b44059da",
   "metadata": {},
   "source": [
    "## Статусы ответа (status_code)"
   ]
  },
  {
   "cell_type": "code",
   "execution_count": null,
   "id": "50bbebb1",
   "metadata": {},
   "outputs": [],
   "source": []
  },
  {
   "cell_type": "code",
   "execution_count": null,
   "id": "cd1fcc56",
   "metadata": {},
   "outputs": [],
   "source": []
  },
  {
   "cell_type": "markdown",
   "id": "e6931275",
   "metadata": {},
   "source": [
    "## Переадресация"
   ]
  },
  {
   "cell_type": "code",
   "execution_count": null,
   "id": "2488f268",
   "metadata": {},
   "outputs": [],
   "source": []
  },
  {
   "cell_type": "code",
   "execution_count": null,
   "id": "dab2548b",
   "metadata": {},
   "outputs": [],
   "source": []
  },
  {
   "cell_type": "markdown",
   "id": "32433d91",
   "metadata": {},
   "source": [
    "## Получение данных запроса"
   ]
  },
  {
   "cell_type": "code",
   "execution_count": null,
   "id": "50664acf",
   "metadata": {},
   "outputs": [],
   "source": []
  },
  {
   "cell_type": "code",
   "execution_count": null,
   "id": "f7a13684",
   "metadata": {},
   "outputs": [],
   "source": []
  },
  {
   "cell_type": "markdown",
   "id": "2068d7aa",
   "metadata": {},
   "source": [
    "## Получение данных запроса в виде объекта (pydantic)"
   ]
  },
  {
   "cell_type": "code",
   "execution_count": null,
   "id": "906f250a",
   "metadata": {},
   "outputs": [],
   "source": []
  },
  {
   "cell_type": "code",
   "execution_count": null,
   "id": "2d209efc",
   "metadata": {},
   "outputs": [],
   "source": []
  },
  {
   "cell_type": "markdown",
   "id": "a49b6eae",
   "metadata": {},
   "source": [
    "## Заголовки"
   ]
  },
  {
   "cell_type": "code",
   "execution_count": null,
   "id": "04ab5a29",
   "metadata": {},
   "outputs": [],
   "source": []
  },
  {
   "cell_type": "code",
   "execution_count": null,
   "id": "8c24d813",
   "metadata": {},
   "outputs": [],
   "source": []
  },
  {
   "cell_type": "markdown",
   "id": "ac8bd7bf",
   "metadata": {},
   "source": [
    "## Cookies"
   ]
  },
  {
   "cell_type": "code",
   "execution_count": null,
   "id": "c6d708dd",
   "metadata": {},
   "outputs": [],
   "source": []
  },
  {
   "cell_type": "code",
   "execution_count": null,
   "id": "d4efda7f",
   "metadata": {},
   "outputs": [],
   "source": []
  },
  {
   "cell_type": "markdown",
   "id": "e59a3add",
   "metadata": {},
   "source": [
    "## Формы"
   ]
  },
  {
   "cell_type": "code",
   "execution_count": null,
   "id": "0b1b5dde",
   "metadata": {},
   "outputs": [],
   "source": []
  },
  {
   "cell_type": "code",
   "execution_count": null,
   "id": "70b8a3b4",
   "metadata": {},
   "outputs": [],
   "source": []
  },
  {
   "cell_type": "code",
   "execution_count": null,
   "id": "773338e2",
   "metadata": {},
   "outputs": [],
   "source": []
  },
  {
   "cell_type": "code",
   "execution_count": null,
   "id": "ad9433ee",
   "metadata": {},
   "outputs": [],
   "source": []
  }
 ],
 "metadata": {
  "kernelspec": {
   "display_name": "Python 3 (ipykernel)",
   "language": "python",
   "name": "python3"
  },
  "language_info": {
   "codemirror_mode": {
    "name": "ipython",
    "version": 3
   },
   "file_extension": ".py",
   "mimetype": "text/x-python",
   "name": "python",
   "nbconvert_exporter": "python",
   "pygments_lexer": "ipython3",
   "version": "3.11.11"
  }
 },
 "nbformat": 4,
 "nbformat_minor": 5
}
