{
 "cells": [
  {
   "cell_type": "markdown",
   "id": "0400359e",
   "metadata": {},
   "source": [
    "# Сетевое взаимодействие\n",
    "\n",
    "## HTTP API\n",
    "\n",
    "- Версия HTTP: Обычно HTTP 1.1\n",
    "- Модель взаимодействия: Один запрос — один ответ\n",
    "- Поддержка браузера: Встроенная поддержка\n",
    "- Передача данных: Обычно JSON и XML, но возможны и другие форматы на выбор пользователя\n",
    "- Относительный объем передаваемых данных: Средний или большой, но текст можно сжать до двоичного формата\n",
    "- Типизация данных в полезной рабочей нагрузке: JSON в основном не подлежит строгой типизации. XML может включать данные «о типе», но при этом увеличивается в размере. BSON допускает типизацию данных, но это не распространенный формат. \n",
    "- SDK и генерирование кода: Для создания примеров кода для генерирования SDK нужно использовать сторонние инструменты, например Postman\n",
    "- Кроссплатформенные серверы: Да\n",
    "- Сложность обработки: Выше для парсинга текста\n",
    "\n",
    "## gRPC API\n",
    "\n",
    "- Версия HTTP: HTTP 2.0\n",
    "- Модель взаимодействия: Один запрос — один ответ и потоковое взаимодействие\n",
    "- Поддержка браузера: Требуется код из дополнительной библиотеки и прокси\n",
    "- Передача данных: Обычно Protocol Buffers, но допускаются и другие типы\n",
    "- Относительный объем передаваемых данных: Небольшой благодаря часто используемому двоичному формату\n",
    "- Типизация данных в полезной рабочей нагрузке: Protocol Buffers допускает передачу четко типизированных данных.\n",
    "- SDK и генерирование кода: Встроенная поддержка генерирования кода\n",
    "- Кроссплатформенные серверы: Да\n",
    "- Сложность обработки: Ниже для четко определенной двоичной структуры"
   ]
  },
  {
   "cell_type": "markdown",
   "id": "7261e67f",
   "metadata": {},
   "source": [
    "# Структура протокола HTTP\n",
    "\n",
    "HTTP-запрос (HTTP Request) в необработанном виде может выглядеть примерно так:\n",
    "\n",
    "GET /index.html HTTP/1.1\n",
    "\n",
    "Host: www.ru\n",
    "\n",
    "Connection: keep-alive\n",
    "\n",
    "Cache-Control: max-age=0\n",
    "\n",
    "Upgrade-Insecure-Requests: 1\n",
    "\n",
    "User-Agent: Mozilla/5.0 (X11; Linux x86_64) AppleWebKit/537.36 (KHTML, like Gecko) Chrome/119.0.0.0 Safari/537.36 Edg/119.0.0.0\n",
    "\n",
    "Accept: text/html,application/xhtml+xml,application/xml;q=0.9,image/webp,image/apng,*/*;q=0.8,application/signed-exchange;v=b3;q=0.7\n",
    "\n",
    "Accept-Encoding: gzip, deflate\n",
    "\n",
    "Accept-Language: ru,en;q=0.9,en-GB;q=0.8,en-US;q=0.7"
   ]
  },
  {
   "cell_type": "markdown",
   "id": "51e0c313",
   "metadata": {},
   "source": [
    "# Методы HTTP-запросов\n",
    "\n",
    "HTTP-методы могут быть такими:\n",
    "\n",
    "- OPTIONS. Запрашивает возможности сервера или поддерживаемые им методы.\n",
    "- GET. Используется для запроса содержимого по указанному URI. Может содержать дополнительные параметры после знака вопроса (Query String), например /path/to/page?param1=value1,param2=value2\n",
    "- HEAD. То же, что GET, но запрашивает только заголовки. Обычно используется для проверки указанного адреса или, например, для получения размера документа перед его загрузкой.\n",
    "- POST. Применяется для передачи данных на сервер, таких как заполненные веб-формы или загружаемые файлы.\n",
    "- PUT. Используется для загрузки содержимого запроса по указанному URI. Отличается от POST тем, что, если загружаемые данные уже существуют на сервере, то этот метод обновит их, а не создаст новую копию.\n",
    "- PATCH. То же, что PUT, но применяется к части данных.\n",
    "- DELETE. Удаляет указанные данные с сервера.\n",
    "- TRACE. Позволяет клиенту получить информацию, вносимую или изменяемую промежуточными серверами.\n",
    "- CONNECT. Запускает TCP/IP туннель, то есть двустороннюю связь с сервером."
   ]
  },
  {
   "cell_type": "markdown",
   "id": "d6ced6b3",
   "metadata": {},
   "source": [
    "# Заголовки HTTP\n",
    "\n",
    "Список самых распространённых заголовков, включаемых в HTTP-запросы:\n",
    "\n",
    "- Host. Содержит имя домена или IP-адрес, к которому выполняется запрос. Также может включать необязательный номер порта, отделённый от адреса двоеточием.\n",
    "- Connection. Позволяет удерживать соединение открытым после завершения запроса (keep-alive) для экономии сетевых ресурсов.\n",
    "- Accept. Указывает, какие типы содержимого (Multipurpose Internet Mail Extensions, MIME) может понять клиент.\n",
    "- Accept-Encoding. Обычно определяет алгоритм сжатия контента.\n",
    "- Accept-Language. Указывает предпочитаемый язык клиента.\n",
    "- Cache-Control. Инструкции по кешированию запросов и ответов.\n",
    "- Refer. Предоставляет исходный адрес, с которого пользователь перешёл на текущую страницу.\n",
    "- Cookie. Содержит сохранённые на стороне клиента фрагменты данных, обычно используемые для сохранения состояния соединения. Cookie могут устанавливаться как сервером, так и клиентом.\n",
    "- Authorization. Используется для проверки подлинности пользователя. Токен авторизации, передаваемый в этом поле, не требует хранения данных на стороне сервера. Этот метод является альтернативой аутентификации с помощью cookie и имеет как преимущества, так и недостатки. Может быть полезен в сетевых сервисах или распределённых системах.\n",
    "- User-Agent. Характеристики клиента, по которым сервер может определить производителя и версию браузера, тип приложения и операционную систему пользователя."
   ]
  },
  {
   "cell_type": "markdown",
   "id": "8323f62a",
   "metadata": {},
   "source": [
    "# Ответ сервера\n",
    "\n",
    "\n",
    "HTTP/1.1 200 OK\n",
    "\n",
    "Date: Mon, 11 Dec 2023 08:19:17 GMT\n",
    "\n",
    "Content-Type: text/html; charset=utf-8\n",
    "\n",
    "Content-Length: 16654\n",
    "\n",
    "Connection: keep-alive\n",
    "\n",
    "X-Powered-By: Express\n",
    "\n",
    "ETag: W/\"410e-+oLejaw6dLcN1MX4POjPnPw26dk\"\n",
    "\n",
    "X-RID: a24782178c58a93f21dd3f9cf718affe"
   ]
  },
  {
   "cell_type": "markdown",
   "id": "1686860e",
   "metadata": {},
   "source": [
    "# Коды состояний\n",
    "Код состояния HTTP-ответа показывает, завершился запрос успехом или нет. Коды ответов можно разделить на пять групп:\n",
    "\n",
    "Информационные\n",
    "- 100 Continue (Продолжить). Промежуточный ответ, который говорит о том, что запрос успешно принят.\n",
    "- 102 Processing (В обработке). Указывает, что обработка запроса ещё не завершена.\n",
    "\n",
    "Успешные\n",
    "- 200 OK (Успешно). Пояснение говорит само за себя. Запрос успешно выполнен в соответствии с переданным методом.\n",
    "- 201 Created (Создано). В результате выполнения запроса PUT был создан ресурс.\n",
    "- 206 Partial Content (Частичное содержимое). Используется для загрузки контента в несколько потоков.\n",
    "\n",
    "Сообщения о перенаправлениях\n",
    "- 301 Moved Permanently (Перемещён на постоянной основе). Означает, что URL запрашиваемого ресурса был изменён.\n",
    "- 302 Found (Найдено). Указывает, что запрошенный ресурс временно изменён. Например, после успешной авторизации клиент может быть перенаправлен на страницу своего профиля.\n",
    "- 304 Not Modified (Не модифицировано). Используется для кеширования. Если запрошенный ресурс не был изменён, клиент может продолжать использовать сохранённую версию ответа.\n",
    "\n",
    "Клиентские\n",
    "- 400 Bad Request (Недействительный запрос). Означает, что сервер не может корректно обработать полученные данные.\n",
    "- 401 Unauthorized (Неавторизованно). Для получения ответа на этот запрос нужна авторизация.\n",
    "- 403 Forbidden (Запрещено). У клиента нет прав доступа к запрашиваемой странице. В отличие от 401, дальнейшая аутентификация невозможна.\n",
    "- 404 Not Found (Не найдено). Сервер не смог найти запрашиваемую страницу. Пожалуй, это самый известный в интернете код ответа.\n",
    "- 405 Method Not Allowed (Метод не разрешён). Вызов этого метода запрещён на стороне сервера. Обязательные методы GET и HEAD не могут быть запрещены.\n",
    "\n",
    "Серверные\n",
    "- 500 Internal Server Error (Внутренняя ошибка). В процессе обработки запроса сервер столкнулся с ошибкой, которую не смог обработать.\n",
    "- 501 Not Implemented (Не реализовано). Сервер не поддерживает запрашиваемый метод. Методы GET и HEAD являются обязательными и не должны возвращать этот код.\n",
    "- 502 Bad Gateway (Плохой шлюз). Эта ошибка обычно означает, что в процессе обработки запроса сервер выполнил обращение к внутренней службе, но получил недействительный ответ.\n",
    "- 503 Service Unavailable (Сервис недоступен). Зачастую причиной этой ошибки бывает отключение или перегрузка сервера.\n",
    "- 504 Gateway Timeout (тайм-аут шлюза). Этот ответ об ошибке возвращается, когда сервер не может получить ответ от внутренней службы вовремя.\n"
   ]
  },
  {
   "cell_type": "code",
   "execution_count": 7,
   "id": "1d993421",
   "metadata": {},
   "outputs": [],
   "source": [
    "# !pip install fastapi\n",
    "# !pip install \"uvicorn[standard]\""
   ]
  },
  {
   "cell_type": "code",
   "execution_count": 4,
   "id": "ebb68ce8",
   "metadata": {},
   "outputs": [],
   "source": [
    "from fastapi import FastAPI\n",
    " \n",
    "app = FastAPI()\n",
    "\n",
    "@app.get(\"/\")\n",
    "def root():\n",
    "    return {\"message\": \"Hello my dear friends\"}"
   ]
  },
  {
   "cell_type": "code",
   "execution_count": 8,
   "id": "98a7bbd8",
   "metadata": {},
   "outputs": [],
   "source": [
    "# uvicorn main:app --reload"
   ]
  },
  {
   "cell_type": "markdown",
   "id": "181014f5",
   "metadata": {},
   "source": [
    "## Отправка ответов"
   ]
  },
  {
   "cell_type": "code",
   "execution_count": 1,
   "id": "ef5f6181",
   "metadata": {},
   "outputs": [],
   "source": [
    "from fastapi import FastAPI\n",
    "from fastapi.responses import JSONResponse\n",
    "from fastapi.encoders import jsonable_encoder\n",
    " \n",
    "app = FastAPI()\n",
    " \n",
    "@app.get(\"/\")\n",
    "def root():\n",
    "    data = {\"message\": \"Hello my dear friends\"}\n",
    "    json_data = jsonable_encoder(data)\n",
    "    return JSONResponse(content=json_data)"
   ]
  },
  {
   "cell_type": "code",
   "execution_count": null,
   "id": "2aebc537",
   "metadata": {},
   "outputs": [],
   "source": [
    "from fastapi import FastAPI\n",
    "from fastapi.responses import JSONResponse\n",
    " \n",
    "app = FastAPI()\n",
    " \n",
    "@app.get(\"/\")\n",
    "def root():\n",
    "    return JSONResponse(content={\"message\": \"Hello my dear friends\"})"
   ]
  },
  {
   "cell_type": "markdown",
   "id": "67429c00",
   "metadata": {},
   "source": [
    "## Response\n",
    "\n",
    "### fastapi.Response\n",
    "\n",
    "- content: задает отправляемое содержимое\n",
    "\n",
    "- status_code: задает статусный код ответа\n",
    "\n",
    "- media_type: задает MIME-тип ответа\n",
    "\n",
    "- headers: задает заголовки ответа"
   ]
  },
  {
   "cell_type": "code",
   "execution_count": null,
   "id": "8f78fc4e",
   "metadata": {},
   "outputs": [],
   "source": [
    "from fastapi import FastAPI, Response\n",
    " \n",
    "app = FastAPI()\n",
    "\n",
    "\n",
    "@app.get(\"/\")\n",
    "def root():\n",
    "    data = \"Hello my dear friends\"\n",
    "    return Response(content=data, media_type=\"text/plain\")"
   ]
  },
  {
   "cell_type": "code",
   "execution_count": null,
   "id": "c03ba1a5",
   "metadata": {},
   "outputs": [],
   "source": [
    "from fastapi import FastAPI, Response, PlainTextResponse\n",
    " \n",
    "app = FastAPI()\n",
    "\n",
    "\n",
    "@app.get(\"/\")\n",
    "def root():\n",
    "    data = \"Hello my dear friends\"\n",
    "    return PlainTextResponse(content=data)"
   ]
  },
  {
   "cell_type": "code",
   "execution_count": null,
   "id": "7a8afc57",
   "metadata": {},
   "outputs": [],
   "source": [
    "from fastapi import FastAPI, Response, HTMLResponse\n",
    " \n",
    "app = FastAPI()\n",
    "\n",
    "\n",
    "@app.get(\"/\")\n",
    "def root():\n",
    "    data = \"<h2>Hello my dear friends</h2>\"\n",
    "    return HTMLResponse(content=data)"
   ]
  },
  {
   "cell_type": "code",
   "execution_count": null,
   "id": "46e65594",
   "metadata": {},
   "outputs": [],
   "source": [
    "from fastapi import FastAPI\n",
    "from fastapi.responses import PlainTextResponse, JSONResponse, HTMLResponse\n",
    " \n",
    "app = FastAPI()\n",
    " \n",
    "@app.get(\"/text\", response_class = PlainTextResponse)\n",
    "def root_text():\n",
    "    return \"Hello my dear friends\""
   ]
  },
  {
   "cell_type": "markdown",
   "id": "a80cf192",
   "metadata": {},
   "source": [
    "## Отправка файлов"
   ]
  },
  {
   "cell_type": "code",
   "execution_count": null,
   "id": "e1361cb6",
   "metadata": {},
   "outputs": [],
   "source": [
    "from fastapi import FastAPI\n",
    "from fastapi.responses import FileResponse\n",
    " \n",
    "app = FastAPI()\n",
    " \n",
    "@app.get(\"/\")\n",
    "def root():\n",
    "    return FileResponse(\"../public/index.html\")\n",
    "\n",
    "\n",
    "@app.get(\"/file\", response_class = FileResponse)\n",
    "def root_html():\n",
    "    return \"../public/index.html\""
   ]
  },
  {
   "cell_type": "code",
   "execution_count": null,
   "id": "7540ac40",
   "metadata": {},
   "outputs": [],
   "source": [
    "import mimetypes\n",
    "from fastapi import FastAPI\n",
    "from fastapi.responses import FileResponse\n",
    " \n",
    "app = FastAPI()\n",
    " \n",
    "@app.get(\"/\")\n",
    "def root():\n",
    "    return FileResponse(\"../public/index.html\", \n",
    "                        filename=\"mainpage.html\", \n",
    "                        media_type=\"application/octet-stream\")"
   ]
  },
  {
   "cell_type": "markdown",
   "id": "42f7a8b9",
   "metadata": {},
   "source": [
    "## Передача параметров в запросе"
   ]
  },
  {
   "cell_type": "code",
   "execution_count": null,
   "id": "08f0aa02",
   "metadata": {},
   "outputs": [],
   "source": [
    "from fastapi import FastAPI\n",
    " \n",
    "app = FastAPI()\n",
    " \n",
    "@app.get(\"/users/{id}\")\n",
    "def users(id):\n",
    "    return {\"user_id\": id}"
   ]
  },
  {
   "cell_type": "code",
   "execution_count": null,
   "id": "d93d915e",
   "metadata": {},
   "outputs": [],
   "source": [
    "from fastapi import FastAPI\n",
    " \n",
    "app = FastAPI()\n",
    " \n",
    "@app.get(\"/users/{name}/{age}\")\n",
    "def users(name, age):\n",
    "    return {\"user_name\": name, \"user_age\": age}\n",
    "\n",
    "@app.get(\"/users/{name}-{age}\")\n",
    "def users(name, age):\n",
    "    return {\"user_name\": name, \"user_age\": age}"
   ]
  },
  {
   "cell_type": "code",
   "execution_count": null,
   "id": "1c4ac361",
   "metadata": {},
   "outputs": [],
   "source": [
    "from fastapi import FastAPI\n",
    " \n",
    "app = FastAPI()\n",
    "\n",
    "\n",
    "@app.get(\"/users/admin\")\n",
    "def admin():\n",
    "    return {\"message\": \"Hello admin\"}\n",
    "\n",
    "@app.get(\"/users/{name}\")\n",
    "def users(name):\n",
    "    return {\"user_name\": name}"
   ]
  },
  {
   "cell_type": "code",
   "execution_count": null,
   "id": "d74a6adc",
   "metadata": {},
   "outputs": [],
   "source": [
    "from fastapi import FastAPI\n",
    " \n",
    "app = FastAPI()\n",
    " \n",
    "@app.get(\"/users/{id}\")\n",
    "def users(id: int):\n",
    "    return {\"user_id\": id}"
   ]
  },
  {
   "cell_type": "code",
   "execution_count": null,
   "id": "e3bca12c",
   "metadata": {},
   "outputs": [],
   "source": [
    "from fastapi import FastAPI, Path\n",
    " \n",
    "app = FastAPI()\n",
    " \n",
    "@app.get(\"/users/{name}/{age}\")\n",
    "def users(name:str  = Path(min_length=3, max_length=20), \n",
    "            age: int = Path(ge=18, lt=111)):\n",
    "    return {\"name\": name, \"age\": age}\n",
    "\n",
    "@app.get(\"/users/{phone}\")\n",
    "def users(phone:str  = Path(pattern=r\"^\\d{11}$\")):\n",
    "    return {\"phone\": phone}"
   ]
  },
  {
   "cell_type": "code",
   "execution_count": null,
   "id": "6aed9e56",
   "metadata": {},
   "outputs": [],
   "source": [
    "# http://site.ru/users?name=Alica&age=45\n",
    "\n",
    "from fastapi import FastAPI\n",
    " \n",
    "app = FastAPI()\n",
    "\n",
    "\n",
    "@app.get(\"/users\")\n",
    "def get_model(name, age):\n",
    "    return {\"user_name\": name, \"user_age\": age}\n",
    "\n",
    "@app.get(\"/cucumbers\")\n",
    "def get_model(name = \"Undefined\", age = 18):\n",
    "    return {\"user_name\": name, \"user_age\": age}"
   ]
  },
  {
   "cell_type": "code",
   "execution_count": null,
   "id": "f2d93ab0",
   "metadata": {},
   "outputs": [],
   "source": [
    "from fastapi import FastAPI\n",
    " \n",
    "app = FastAPI()\n",
    "\n",
    "\n",
    "@app.get(\"/users\")\n",
    "def get_model(name: str, age: int = 18):\n",
    "    return {\"user_name\": name, \"user_age\": age}"
   ]
  },
  {
   "cell_type": "code",
   "execution_count": null,
   "id": "3000bd6c",
   "metadata": {},
   "outputs": [],
   "source": [
    "from fastapi import FastAPI, Query\n",
    " \n",
    "app = FastAPI()\n",
    " \n",
    "@app.get(\"/users\")\n",
    "def users(name:str  = Query(min_length=3, max_length=20)):\n",
    "    return {\"name\": name}"
   ]
  },
  {
   "cell_type": "code",
   "execution_count": null,
   "id": "002ac6ba",
   "metadata": {},
   "outputs": [],
   "source": [
    "# http://127.0.0.1:8000/users?people=tom&people=Sam&people=Bob\n",
    "\n",
    "from fastapi import FastAPI, Query\n",
    " \n",
    "app = FastAPI()\n",
    " \n",
    "@app.get(\"/users\")\n",
    "def users(people: list[str]  = Query()):\n",
    "    return {\"people\": people}"
   ]
  },
  {
   "cell_type": "markdown",
   "id": "b44059da",
   "metadata": {},
   "source": [
    "## Статусы ответа (status_code)"
   ]
  },
  {
   "cell_type": "code",
   "execution_count": null,
   "id": "50bbebb1",
   "metadata": {},
   "outputs": [],
   "source": [
    "from fastapi import FastAPI\n",
    " \n",
    "app = FastAPI()\n",
    " \n",
    "@app.get(\"/notfound\", status_code=404)\n",
    "def notfound():\n",
    "    return  {\"message\": \"Resource Not Found\"}"
   ]
  },
  {
   "cell_type": "code",
   "execution_count": null,
   "id": "cd1fcc56",
   "metadata": {},
   "outputs": [],
   "source": [
    "from fastapi import FastAPI, status\n",
    " \n",
    "app = FastAPI()\n",
    " \n",
    "@app.get(\"/notfound\", status_code=status.HTTP_404_NOT_FOUND)\n",
    "def notfound():\n",
    "    return  {\"message\": \"Resource Not Found\"}"
   ]
  },
  {
   "cell_type": "code",
   "execution_count": null,
   "id": "b0f9c68c",
   "metadata": {},
   "outputs": [],
   "source": [
    "from fastapi import FastAPI\n",
    "from fastapi.responses import JSONResponse\n",
    " \n",
    "app = FastAPI()\n",
    " \n",
    "@app.get(\"/notfound\")\n",
    "def notfound():\n",
    "    return JSONResponse(content={\"message\": \"Resource Not Found\"}, status_code=404)"
   ]
  },
  {
   "cell_type": "code",
   "execution_count": null,
   "id": "ce9159e1",
   "metadata": {},
   "outputs": [],
   "source": [
    "from fastapi import FastAPI, Response, Path\n",
    " \n",
    "app = FastAPI()\n",
    " \n",
    "@app.get(\"/users/{id}\", status_code=200)\n",
    "def users(response: Response, id: int = Path()):\n",
    "    if id < 1:\n",
    "        response.status_code = 400\n",
    "        return {\"message\": \"Incorrect Data\"}\n",
    "    return  {\"message\": f\"Id = {id}\"}"
   ]
  },
  {
   "cell_type": "markdown",
   "id": "e6931275",
   "metadata": {},
   "source": [
    "## Переадресация"
   ]
  },
  {
   "cell_type": "code",
   "execution_count": null,
   "id": "2488f268",
   "metadata": {},
   "outputs": [],
   "source": [
    "import mimetypes\n",
    "from fastapi import FastAPI\n",
    "from fastapi.responses import RedirectResponse, PlainTextResponse\n",
    " \n",
    "app = FastAPI()\n",
    " \n",
    "@app.get(\"/old\")\n",
    "def old():\n",
    "    return RedirectResponse(\"/new\")\n",
    " \n",
    "@app.get(\"/new\")\n",
    "def new():\n",
    "    return PlainTextResponse(\"Новая страница\")"
   ]
  },
  {
   "cell_type": "code",
   "execution_count": null,
   "id": "dab2548b",
   "metadata": {},
   "outputs": [],
   "source": [
    "import mimetypes\n",
    "from fastapi import FastAPI\n",
    "from fastapi.responses import RedirectResponse, PlainTextResponse\n",
    " \n",
    "app = FastAPI()\n",
    "\n",
    "@app.get(\"/old\", response_class= RedirectResponse)\n",
    "def old():\n",
    "    return \"/new\""
   ]
  },
  {
   "cell_type": "code",
   "execution_count": null,
   "id": "1b7a17c1",
   "metadata": {},
   "outputs": [],
   "source": [
    "import mimetypes\n",
    "from fastapi import FastAPI\n",
    "from fastapi.responses import RedirectResponse, PlainTextResponse\n",
    " \n",
    "app = FastAPI()\n",
    "\n",
    "@app.get(\"/old\")\n",
    "def old():\n",
    "    return RedirectResponse(\"https://site-site.com\")"
   ]
  },
  {
   "cell_type": "code",
   "execution_count": null,
   "id": "aaedfea9",
   "metadata": {},
   "outputs": [],
   "source": [
    "import mimetypes\n",
    "from fastapi import FastAPI\n",
    "from fastapi.responses import RedirectResponse, PlainTextResponse\n",
    " \n",
    "app = FastAPI()\n",
    "\n",
    "\n",
    "@app.get(\"/old\")\n",
    "def old():\n",
    "    return RedirectResponse(\"/new\", status_code=302)\n",
    "\n",
    "@app.get(\"/new\")\n",
    "def new():\n",
    "    return PlainTextResponse(\"Новая страница\")"
   ]
  },
  {
   "cell_type": "code",
   "execution_count": null,
   "id": "155c80d0",
   "metadata": {},
   "outputs": [],
   "source": [
    "import mimetypes\n",
    "from fastapi import FastAPI\n",
    "from fastapi.responses import RedirectResponse, PlainTextResponse\n",
    " \n",
    "app = FastAPI()\n",
    "\n",
    "\n",
    "@app.get(\"/old\", response_class= RedirectResponse, status_code=302)\n",
    "def old():\n",
    "    return \"/new\"\n",
    "\n",
    "@app.get(\"/new\")\n",
    "def new():\n",
    "    return PlainTextResponse(\"Новая страница\")"
   ]
  },
  {
   "cell_type": "markdown",
   "id": "32433d91",
   "metadata": {},
   "source": [
    "## Получение данных запроса"
   ]
  },
  {
   "cell_type": "code",
   "execution_count": null,
   "id": "50664acf",
   "metadata": {},
   "outputs": [],
   "source": [
    "from fastapi import FastAPI, Body\n",
    "from fastapi.responses import FileResponse\n",
    " \n",
    "app = FastAPI()\n",
    " \n",
    "@app.get(\"/\")\n",
    "def root():\n",
    "    return FileResponse(\"../public/page.html\")\n",
    " \n",
    "@app.post(\"/hello\")\n",
    "#def hello(name = Body(embed=True)):\n",
    "def hello(data = Body()):\n",
    "    name = data[\"name\"]\n",
    "    color = data[\"color\"]\n",
    "    return {\"message\": f\"{name}, ваш цвет - {color}\"}"
   ]
  },
  {
   "cell_type": "code",
   "execution_count": null,
   "id": "ce3f55df",
   "metadata": {},
   "outputs": [],
   "source": [
    "from fastapi import FastAPI, Body\n",
    "from fastapi.responses import FileResponse\n",
    " \n",
    "app = FastAPI()\n",
    " \n",
    "@app.get(\"/\")\n",
    "def root():\n",
    "    return FileResponse(\"../public/page.html\")\n",
    " \n",
    "@app.post(\"/hello\")\n",
    "def hello(name = Body(embed=True), color = Body(embed=True)):\n",
    "    return {\"message\": f\"{name}, ваш цвет - {color}\"}"
   ]
  },
  {
   "cell_type": "code",
   "execution_count": null,
   "id": "8d9cbae1",
   "metadata": {},
   "outputs": [],
   "source": [
    "from fastapi import FastAPI, Body\n",
    "from fastapi.responses import FileResponse\n",
    " \n",
    "app = FastAPI()\n",
    " \n",
    "@app.get(\"/\")\n",
    "def root():\n",
    "    return FileResponse(\"../public/page.html\")\n",
    " \n",
    "@app.post(\"/hello\")\n",
    "def hello(name:str  = Body(embed=True, min_length=3, max_length=20), color: str = Body(embed=True)):\n",
    "    return {\"message\": f\"{name}, ваш цвет - {color}\"}"
   ]
  },
  {
   "cell_type": "markdown",
   "id": "2068d7aa",
   "metadata": {},
   "source": [
    "## Получение данных запроса в виде объекта (pydantic)"
   ]
  },
  {
   "cell_type": "code",
   "execution_count": null,
   "id": "906f250a",
   "metadata": {},
   "outputs": [],
   "source": [
    "from fastapi import FastAPI\n",
    "from fastapi.responses import FileResponse\n",
    "from pydantic import BaseModel\n",
    " \n",
    "class Person(BaseModel):\n",
    "    name: str\n",
    "    color: str\n",
    "\n",
    "app = FastAPI()\n",
    " \n",
    "@app.get(\"/\")\n",
    "def root():\n",
    "    return FileResponse(\"../public/page.html\")\n",
    " \n",
    "@app.post(\"/hello\")\n",
    "def hello(person: Person):\n",
    "    return {\"message\": f\"Привет, {person.name}, ваш цвет - {person.color}\"}"
   ]
  },
  {
   "cell_type": "code",
   "execution_count": null,
   "id": "2d209efc",
   "metadata": {},
   "outputs": [],
   "source": [
    "from fastapi import FastAPI, Body\n",
    "from fastapi.responses import FileResponse\n",
    "from pydantic import BaseModel\n",
    " \n",
    "class Person(BaseModel):\n",
    "    name: str\n",
    "    color: str | None = None\n",
    "\n",
    "app = FastAPI()\n",
    " \n",
    "@app.get(\"/\")\n",
    "def root():\n",
    "    return FileResponse(\"../public/page.html\")\n",
    " \n",
    "@app.post(\"/hello\")\n",
    "def hello(person: Person):\n",
    "    if person.color == None:\n",
    "        return {\"message\": f\"Привет, {person.name}\"}\n",
    "    else:\n",
    "        return {\"message\": f\"Привет, {person.name}, ваш цвет - {person.color}\"}"
   ]
  },
  {
   "cell_type": "code",
   "execution_count": null,
   "id": "7d1f20db",
   "metadata": {},
   "outputs": [],
   "source": [
    "from fastapi import FastAPI\n",
    "from fastapi.responses import FileResponse\n",
    "from pydantic import BaseModel, Field\n",
    " \n",
    "class Person(BaseModel):\n",
    "    name: str = Field(default=\"Undefined\", min_length=3, max_length=20)\n",
    "    color: str = Field(default=\"red\")\n",
    "\n",
    "app = FastAPI()\n",
    " \n",
    "@app.get(\"/\")\n",
    "def root():\n",
    "    return FileResponse(\"../public/page.html\")\n",
    " \n",
    "@app.post(\"/hello\")\n",
    "def hello(person: Person):\n",
    "    return {\"message\": f\"Привет, {person.name}, ваш цвет - {person.color}\"}"
   ]
  },
  {
   "cell_type": "code",
   "execution_count": null,
   "id": "267ce71f",
   "metadata": {},
   "outputs": [],
   "source": [
    "from fastapi import FastAPI\n",
    "from fastapi.responses import FileResponse\n",
    "from pydantic import BaseModel \n",
    " \n",
    "class Person(BaseModel):\n",
    "    name: str\n",
    "    color: str\n",
    "\n",
    "app = FastAPI()\n",
    " \n",
    "@app.get(\"/\")\n",
    "def root():\n",
    "    return FileResponse(\"../public/page2.html\")\n",
    " \n",
    "@app.post(\"/hello\")\n",
    "def hello(people: list[Person]):\n",
    "    return {\"message\": people}"
   ]
  },
  {
   "cell_type": "code",
   "execution_count": null,
   "id": "ba368f16",
   "metadata": {},
   "outputs": [],
   "source": [
    "from fastapi import FastAPI\n",
    "from fastapi.responses import FileResponse\n",
    "from pydantic import BaseModel\n",
    " \n",
    "class Person(BaseModel):\n",
    "    name: str\n",
    "    languages: list = []\n",
    "\n",
    "app = FastAPI()\n",
    " \n",
    "@app.get(\"/\")\n",
    "def root():\n",
    "    return FileResponse(\"../public/page3.html\")\n",
    " \n",
    "@app.post(\"/hello\")\n",
    "def hello(person: Person):\n",
    "    return {\"message\": f\"Name: {person.name}. Languages: {person.languages}\"}"
   ]
  },
  {
   "cell_type": "code",
   "execution_count": null,
   "id": "a7f71520",
   "metadata": {},
   "outputs": [],
   "source": [
    "from fastapi import FastAPI\n",
    "from fastapi.responses import FileResponse\n",
    "from pydantic import BaseModel\n",
    " \n",
    "class Company(BaseModel):\n",
    "    name: str\n",
    "\n",
    "class Person(BaseModel):\n",
    "    name: str\n",
    "    company: Company\n",
    "\n",
    "app = FastAPI()\n",
    " \n",
    "@app.get(\"/\")\n",
    "def root():\n",
    "    return FileResponse(\"../public/page4.html\")\n",
    " \n",
    "@app.post(\"/hello\")\n",
    "def hello(person: Person):\n",
    "    return {\"message\": f\"{person.name} ({person.company.name})\"}"
   ]
  },
  {
   "cell_type": "markdown",
   "id": "a49b6eae",
   "metadata": {},
   "source": [
    "## Заголовки"
   ]
  },
  {
   "cell_type": "code",
   "execution_count": null,
   "id": "04ab5a29",
   "metadata": {},
   "outputs": [],
   "source": [
    "from fastapi import FastAPI, Response\n",
    " \n",
    "app = FastAPI()\n",
    " \n",
    "@app.get(\"/\")\n",
    "def root():\n",
    "    data = \"Hello world\"\n",
    "    return Response(content=data, media_type=\"text/plain\", headers={\"Secret-Code\" : \"papam\"})"
   ]
  },
  {
   "cell_type": "code",
   "execution_count": null,
   "id": "8c24d813",
   "metadata": {},
   "outputs": [],
   "source": [
    "from fastapi import FastAPI, Response\n",
    " \n",
    "app = FastAPI()\n",
    " \n",
    "\n",
    "@app.get(\"/\")\n",
    "def root(response: Response):\n",
    "    response.headers[\"Secret-Code\"] = \"papam\"\n",
    "    return {\"message\": \"Hello world\"}"
   ]
  },
  {
   "cell_type": "code",
   "execution_count": null,
   "id": "2b29c8a4",
   "metadata": {},
   "outputs": [],
   "source": [
    "from fastapi import FastAPI, Header\n",
    " \n",
    "app = FastAPI()\n",
    " \n",
    "\n",
    "@app.get(\"/\")\n",
    "def root(user_agent: str = Header()):\n",
    "    return {\"User-Agent\": user_agent}"
   ]
  },
  {
   "cell_type": "code",
   "execution_count": null,
   "id": "f11cd9c6",
   "metadata": {},
   "outputs": [],
   "source": [
    "from fastapi import FastAPI, Header\n",
    " \n",
    "app = FastAPI()\n",
    " \n",
    "\n",
    "@app.get(\"/\")\n",
    "def root(secret_code: str | None = Header(default=None)):\n",
    "    return {\"Secret-Code\": secret_code}"
   ]
  },
  {
   "cell_type": "markdown",
   "id": "ac8bd7bf",
   "metadata": {},
   "source": [
    "## Cookies"
   ]
  },
  {
   "cell_type": "code",
   "execution_count": null,
   "id": "c6d708dd",
   "metadata": {},
   "outputs": [],
   "source": [
    "from fastapi import FastAPI, Response\n",
    "from datetime import datetime\n",
    " \n",
    "app = FastAPI()\n",
    " \n",
    "@app.get(\"/\")\n",
    "def root(response: Response):\n",
    "    now = datetime.now()    # получаем текущую дату и время\n",
    "    response.set_cookie(key=\"last_visit\", value=now)\n",
    "    return  {\"message\": \"куки установлены\"}"
   ]
  },
  {
   "cell_type": "code",
   "execution_count": null,
   "id": "d4efda7f",
   "metadata": {},
   "outputs": [],
   "source": [
    "from fastapi import FastAPI\n",
    "from fastapi.responses import JSONResponse\n",
    "from datetime import datetime\n",
    " \n",
    "app = FastAPI()\n",
    " \n",
    "\n",
    "@app.get(\"/\")\n",
    "def root():\n",
    "    now = datetime.now()    # получаем текущую дату и время\n",
    "    response = JSONResponse(content={\"message\": \"куки установлены\"})\n",
    "    response.set_cookie(key=\"last_visit\", value=now)\n",
    "    return  response"
   ]
  },
  {
   "cell_type": "code",
   "execution_count": null,
   "id": "f8b8bea7",
   "metadata": {},
   "outputs": [],
   "source": [
    "from fastapi import FastAPI, Cookie\n",
    " \n",
    "app = FastAPI()\n",
    " \n",
    "@app.get(\"/\")\n",
    "def root(last_visit = Cookie()):\n",
    "    return  {\"last visit\": last_visit}"
   ]
  },
  {
   "cell_type": "code",
   "execution_count": null,
   "id": "2a53fcd2",
   "metadata": {},
   "outputs": [],
   "source": [
    "from fastapi import FastAPI, Cookie\n",
    " \n",
    "app = FastAPI()\n",
    " \n",
    "@app.get(\"/\")\n",
    "def root(last_visit: str | None = Cookie(default=None)):\n",
    "    if last_visit == None:\n",
    "        return {\"message\": \"Это ваш первый визит на сайт\"}\n",
    "    else:\n",
    "        return  {\"message\": f\"Ваш последний визит: {last_visit}\"}"
   ]
  },
  {
   "cell_type": "markdown",
   "id": "046db93b",
   "metadata": {},
   "source": [
    "## Отправка форм"
   ]
  },
  {
   "cell_type": "code",
   "execution_count": 10,
   "id": "cdeeaf05",
   "metadata": {},
   "outputs": [],
   "source": [
    "# !pip install python-multipart"
   ]
  },
  {
   "cell_type": "code",
   "execution_count": null,
   "id": "9f8111fd",
   "metadata": {},
   "outputs": [],
   "source": [
    "from fastapi import FastAPI, Form\n",
    "from fastapi.responses import FileResponse\n",
    " \n",
    "app = FastAPI()\n",
    " \n",
    "@app.get(\"/\")\n",
    "def root():\n",
    "    return FileResponse(\"../public/form.html\")\n",
    " \n",
    "\n",
    "@app.post(\"/postdata\")\n",
    "def postdata(username = Form(), usercolor=Form()):\n",
    "    return {\"name\": username, \"color\": usercolor}"
   ]
  },
  {
   "cell_type": "code",
   "execution_count": null,
   "id": "70b8a3b4",
   "metadata": {},
   "outputs": [],
   "source": [
    "from fastapi import FastAPI, Form\n",
    "from fastapi.responses import FileResponse\n",
    " \n",
    "app = FastAPI()\n",
    " \n",
    "\n",
    "@app.get(\"/\")\n",
    "def root():\n",
    "    return FileResponse(\"../public/form.html\")\n",
    " \n",
    "\n",
    "@app.post(\"/postdata\")\n",
    "def postdata(username: str = Form(min_length=2, max_length=20), \n",
    "            usercolor: str =Form(min_length=2, max_length=10)):\n",
    "    return {\"name\": username, \"color\": usercolor}"
   ]
  },
  {
   "cell_type": "code",
   "execution_count": null,
   "id": "d8270237",
   "metadata": {},
   "outputs": [],
   "source": [
    "from fastapi import FastAPI, Form\n",
    "from fastapi.responses import FileResponse\n",
    " \n",
    "app = FastAPI()\n",
    " \n",
    "\n",
    "@app.get(\"/\")\n",
    "def root():\n",
    "    return FileResponse(\"../public/form.html\")\n",
    " \n",
    "\n",
    "@app.post(\"/postdata\")\n",
    "def postdata(username: str = Form(default =\"Undefined\", min_length=2, max_length=20), \n",
    "            usercolor: str = Form(default='red', min_length=2, max_length=10)):\n",
    "    return {\"name\": username, \"color\": usercolor}"
   ]
  },
  {
   "cell_type": "code",
   "execution_count": null,
   "id": "12f4bded",
   "metadata": {},
   "outputs": [],
   "source": [
    "from fastapi import FastAPI, Form\n",
    "from fastapi.responses import FileResponse\n",
    " \n",
    "app = FastAPI()\n",
    " \n",
    "\n",
    "@app.get(\"/\")\n",
    "def root():\n",
    "    return FileResponse(\"../public/form2.html\")\n",
    " \n",
    "\n",
    "@app.post(\"/postdata\")\n",
    "def postdata(username: str = Form(), \n",
    "            languages: list =Form()):\n",
    "    return {\"name\": username, \"languages\": languages}"
   ]
  },
  {
   "cell_type": "code",
   "execution_count": null,
   "id": "5e582c26",
   "metadata": {},
   "outputs": [],
   "source": []
  }
 ],
 "metadata": {
  "kernelspec": {
   "display_name": "Python 3 (ipykernel)",
   "language": "python",
   "name": "python3"
  },
  "language_info": {
   "codemirror_mode": {
    "name": "ipython",
    "version": 3
   },
   "file_extension": ".py",
   "mimetype": "text/x-python",
   "name": "python",
   "nbconvert_exporter": "python",
   "pygments_lexer": "ipython3",
   "version": "3.11.11"
  }
 },
 "nbformat": 4,
 "nbformat_minor": 5
}
